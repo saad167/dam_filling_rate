{
 "cells": [
  {
   "cell_type": "code",
   "execution_count": 2,
   "id": "927fc037",
   "metadata": {},
   "outputs": [],
   "source": [
    "import warnings\n",
    "UserWarning(\"ignore\")\n",
    "\n",
    "import json\n",
    "import pandas as pd\n",
    "import datetime\n",
    "\n",
    "from tabula import read_pdf\n",
    "import tabula\n",
    "from tabulate import tabulate\n",
    "import os\n",
    "import copy"
   ]
  },
  {
   "cell_type": "code",
   "execution_count": 3,
   "id": "00352ec7",
   "metadata": {},
   "outputs": [],
   "source": [
    "start = datetime.datetime(2021,3,13)\n",
    "end = datetime.datetime(2021,10,13)"
   ]
  },
  {
   "cell_type": "code",
   "execution_count": 5,
   "id": "b4ebb39e",
   "metadata": {
    "scrolled": true
   },
   "outputs": [
    {
     "name": "stdout",
     "output_type": "stream",
     "text": [
      "./weather_data/weather_data/20210313/\n",
      "18 0.0\n",
      "./weather_data/20210313/\n",
      "-----------\n",
      "./weather_data/weather_data/20210314/\n",
      "21 0.0\n",
      "./weather_data/20210314/\n",
      "-----------\n",
      "./weather_data/weather_data/20210315/\n",
      "24 0.0\n",
      "./weather_data/20210315/\n",
      "-----------\n",
      "./weather_data/weather_data/20210316/\n",
      "23 0.0\n",
      "./weather_data/20210316/\n",
      "-----------\n",
      "./weather_data/weather_data/20210317/\n",
      "22 0.0\n",
      "./weather_data/20210317/\n",
      "-----------\n",
      "./weather_data/weather_data/20210318/\n",
      "18 0.0\n",
      "./weather_data/20210318/\n",
      "-----------\n",
      "./weather_data/weather_data/20210319/\n",
      "16 1.5000000000000002\n",
      "./weather_data/20210319/\n",
      "-----------\n"
     ]
    }
   ],
   "source": [
    "d = start\n",
    "all_data = []\n",
    "while(d<end):\n",
    "    try:\n",
    "        path =f\"./weather_data/weather_data/{d.strftime('%Y%m%d')}/\"\n",
    "        print(path)\n",
    "        with open(path+\"Marrakech_\"+d.strftime('%Y%m%d')+\".json\")as f:\n",
    "            data = json.load(f)[\"data\"]\n",
    "            ville=\"Marrakech\"\n",
    "            temp = data[\"weather\"][0][\"avgtempC\"]\n",
    "            prec = 0\n",
    "            for value in data[\"weather\"][0][\"hourly\"]:\n",
    "                prec += float(value[\"precipMM\"])\n",
    "            print(temp,prec)\n",
    "\n",
    "            record = {\"ville\":ville,\"temperature\":temp,\"precipitation\":prec,\"date\":d.strftime(\"%Y-%m-%d\")}\n",
    "            all_data.append(record)\n",
    "        path =f\"./weather_data/{d.strftime('%Y%m%d')}/\"\n",
    "        print(path)\n",
    "        \n",
    "        d = d+datetime.timedelta(days=1)\n",
    "    except Exception as e:\n",
    "        print(\"\\n-> ERROR!!!!\",e)\n",
    "    print(\"-----------\")"
   ]
  },
  {
   "cell_type": "code",
   "execution_count": 6,
   "id": "20077556",
   "metadata": {},
   "outputs": [
    {
     "data": {
      "text/html": [
       "<div>\n",
       "<style scoped>\n",
       "    .dataframe tbody tr th:only-of-type {\n",
       "        vertical-align: middle;\n",
       "    }\n",
       "\n",
       "    .dataframe tbody tr th {\n",
       "        vertical-align: top;\n",
       "    }\n",
       "\n",
       "    .dataframe thead th {\n",
       "        text-align: right;\n",
       "    }\n",
       "</style>\n",
       "<table border=\"1\" class=\"dataframe\">\n",
       "  <thead>\n",
       "    <tr style=\"text-align: right;\">\n",
       "      <th></th>\n",
       "      <th>ville</th>\n",
       "      <th>temperature</th>\n",
       "      <th>precipitation</th>\n",
       "      <th>date</th>\n",
       "    </tr>\n",
       "  </thead>\n",
       "  <tbody>\n",
       "    <tr>\n",
       "      <th>0</th>\n",
       "      <td>Marrakech</td>\n",
       "      <td>18</td>\n",
       "      <td>0.0</td>\n",
       "      <td>2021-03-13</td>\n",
       "    </tr>\n",
       "    <tr>\n",
       "      <th>1</th>\n",
       "      <td>Marrakech</td>\n",
       "      <td>21</td>\n",
       "      <td>0.0</td>\n",
       "      <td>2021-03-14</td>\n",
       "    </tr>\n",
       "    <tr>\n",
       "      <th>2</th>\n",
       "      <td>Marrakech</td>\n",
       "      <td>24</td>\n",
       "      <td>0.0</td>\n",
       "      <td>2021-03-15</td>\n",
       "    </tr>\n",
       "    <tr>\n",
       "      <th>3</th>\n",
       "      <td>Marrakech</td>\n",
       "      <td>23</td>\n",
       "      <td>0.0</td>\n",
       "      <td>2021-03-16</td>\n",
       "    </tr>\n",
       "    <tr>\n",
       "      <th>4</th>\n",
       "      <td>Marrakech</td>\n",
       "      <td>22</td>\n",
       "      <td>0.0</td>\n",
       "      <td>2021-03-17</td>\n",
       "    </tr>\n",
       "    <tr>\n",
       "      <th>5</th>\n",
       "      <td>Marrakech</td>\n",
       "      <td>18</td>\n",
       "      <td>0.0</td>\n",
       "      <td>2021-03-18</td>\n",
       "    </tr>\n",
       "    <tr>\n",
       "      <th>6</th>\n",
       "      <td>Marrakech</td>\n",
       "      <td>16</td>\n",
       "      <td>1.5</td>\n",
       "      <td>2021-03-19</td>\n",
       "    </tr>\n",
       "  </tbody>\n",
       "</table>\n",
       "</div>"
      ],
      "text/plain": [
       "       ville temperature  precipitation        date\n",
       "0  Marrakech          18            0.0  2021-03-13\n",
       "1  Marrakech          21            0.0  2021-03-14\n",
       "2  Marrakech          24            0.0  2021-03-15\n",
       "3  Marrakech          23            0.0  2021-03-16\n",
       "4  Marrakech          22            0.0  2021-03-17\n",
       "5  Marrakech          18            0.0  2021-03-18\n",
       "6  Marrakech          16            1.5  2021-03-19"
      ]
     },
     "execution_count": 6,
     "metadata": {},
     "output_type": "execute_result"
    }
   ],
   "source": [
    "df = pd.DataFrame(all_data)\n",
    "df"
   ]
  },
  {
   "cell_type": "code",
   "execution_count": 29,
   "id": "2a404f88",
   "metadata": {},
   "outputs": [],
   "source": [
    "df.to_csv(\"./weather.csv\",index=False,encoding=\"UTF-8\")"
   ]
  }
 ],
 "metadata": {
  "kernelspec": {
   "display_name": "Python 3.8.8 64-bit",
   "language": "python",
   "name": "python3"
  },
  "language_info": {
   "codemirror_mode": {
    "name": "ipython",
    "version": 3
   },
   "file_extension": ".py",
   "mimetype": "text/x-python",
   "name": "python",
   "nbconvert_exporter": "python",
   "pygments_lexer": "ipython3",
   "version": "3.8.8"
  },
  "vscode": {
   "interpreter": {
    "hash": "892b1dbae191cb403baa4bf29e539705d2bb168fb9a756bde180b5b738f682b9"
   }
  }
 },
 "nbformat": 4,
 "nbformat_minor": 5
}
