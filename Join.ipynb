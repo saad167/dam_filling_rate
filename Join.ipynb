{
 "cells": [
  {
   "cell_type": "code",
   "execution_count": 6,
   "id": "1ef7bfa1",
   "metadata": {},
   "outputs": [],
   "source": [
    "import warnings\n",
    "UserWarning(\"ignore\")\n",
    "\n",
    "import pandas as pd\n",
    "import csv"
   ]
  },
  {
   "cell_type": "code",
   "execution_count": 7,
   "id": "7271e0b5",
   "metadata": {},
   "outputs": [],
   "source": [
    "weather = pd.read_csv(\"./weather.csv\")"
   ]
  },
  {
   "cell_type": "code",
   "execution_count": 8,
   "id": "e68bbe04",
   "metadata": {},
   "outputs": [],
   "source": [
    "barrages = pd.read_csv(\"./barrage_data.csv\")"
   ]
  },
  {
   "cell_type": "code",
   "execution_count": 9,
   "id": "47ab2261",
   "metadata": {
    "scrolled": true
   },
   "outputs": [
    {
     "data": {
      "text/html": [
       "<div>\n",
       "<style scoped>\n",
       "    .dataframe tbody tr th:only-of-type {\n",
       "        vertical-align: middle;\n",
       "    }\n",
       "\n",
       "    .dataframe tbody tr th {\n",
       "        vertical-align: top;\n",
       "    }\n",
       "\n",
       "    .dataframe thead th {\n",
       "        text-align: right;\n",
       "    }\n",
       "</style>\n",
       "<table border=\"1\" class=\"dataframe\">\n",
       "  <thead>\n",
       "    <tr style=\"text-align: right;\">\n",
       "      <th></th>\n",
       "      <th>ville</th>\n",
       "      <th>temperature</th>\n",
       "      <th>precipitation</th>\n",
       "      <th>date</th>\n",
       "      <th>barrages</th>\n",
       "      <th>capacite_normal_mm3</th>\n",
       "      <th>reserve_mm3</th>\n",
       "      <th>taux_de_remplissage_percent</th>\n",
       "      <th>reserve_mm3_last_year</th>\n",
       "      <th>taux_de_remplissage_percent_last_year</th>\n",
       "      <th>region</th>\n",
       "    </tr>\n",
       "  </thead>\n",
       "  <tbody>\n",
       "    <tr>\n",
       "      <th>327</th>\n",
       "      <td>Marrakech</td>\n",
       "      <td>15</td>\n",
       "      <td>0.6</td>\n",
       "      <td>2022-03-07</td>\n",
       "      <td>LALLA TAKERKOUST</td>\n",
       "      <td>53,3</td>\n",
       "      <td>2,6</td>\n",
       "      <td>4,9</td>\n",
       "      <td>11,9</td>\n",
       "      <td>22,4</td>\n",
       "      <td>Marrakech-Safi</td>\n",
       "    </tr>\n",
       "    <tr>\n",
       "      <th>328</th>\n",
       "      <td>Marrakech</td>\n",
       "      <td>17</td>\n",
       "      <td>0.0</td>\n",
       "      <td>2022-03-08</td>\n",
       "      <td>LALLA TAKERKOUST</td>\n",
       "      <td>53,3</td>\n",
       "      <td>4,3</td>\n",
       "      <td>8,2</td>\n",
       "      <td>14,9</td>\n",
       "      <td>28,0</td>\n",
       "      <td>Marrakech-Safi</td>\n",
       "    </tr>\n",
       "    <tr>\n",
       "      <th>329</th>\n",
       "      <td>Marrakech</td>\n",
       "      <td>17</td>\n",
       "      <td>0.0</td>\n",
       "      <td>2022-03-09</td>\n",
       "      <td>LALLA TAKERKOUST</td>\n",
       "      <td>53,3</td>\n",
       "      <td>7,3</td>\n",
       "      <td>13,7</td>\n",
       "      <td>16,5</td>\n",
       "      <td>31,0</td>\n",
       "      <td>Marrakech-Safi</td>\n",
       "    </tr>\n",
       "    <tr>\n",
       "      <th>330</th>\n",
       "      <td>Marrakech</td>\n",
       "      <td>17</td>\n",
       "      <td>0.0</td>\n",
       "      <td>2022-03-10</td>\n",
       "      <td>LALLA TAKERKOUST</td>\n",
       "      <td>53,3</td>\n",
       "      <td>9,9</td>\n",
       "      <td>18,6</td>\n",
       "      <td>16,6</td>\n",
       "      <td>31,1</td>\n",
       "      <td>Marrakech-Safi</td>\n",
       "    </tr>\n",
       "    <tr>\n",
       "      <th>331</th>\n",
       "      <td>Marrakech</td>\n",
       "      <td>18</td>\n",
       "      <td>0.0</td>\n",
       "      <td>2022-03-11</td>\n",
       "      <td>LALLA TAKERKOUST</td>\n",
       "      <td>53,3</td>\n",
       "      <td>12,7</td>\n",
       "      <td>23,8</td>\n",
       "      <td>16,6</td>\n",
       "      <td>31,1</td>\n",
       "      <td>Marrakech-Safi</td>\n",
       "    </tr>\n",
       "  </tbody>\n",
       "</table>\n",
       "</div>"
      ],
      "text/plain": [
       "         ville  temperature  precipitation        date          barrages  \\\n",
       "327  Marrakech           15            0.6  2022-03-07  LALLA TAKERKOUST   \n",
       "328  Marrakech           17            0.0  2022-03-08  LALLA TAKERKOUST   \n",
       "329  Marrakech           17            0.0  2022-03-09  LALLA TAKERKOUST   \n",
       "330  Marrakech           17            0.0  2022-03-10  LALLA TAKERKOUST   \n",
       "331  Marrakech           18            0.0  2022-03-11  LALLA TAKERKOUST   \n",
       "\n",
       "    capacite_normal_mm3 reserve_mm3 taux_de_remplissage_percent  \\\n",
       "327                53,3         2,6                         4,9   \n",
       "328                53,3         4,3                         8,2   \n",
       "329                53,3         7,3                        13,7   \n",
       "330                53,3         9,9                        18,6   \n",
       "331                53,3        12,7                        23,8   \n",
       "\n",
       "    reserve_mm3_last_year taux_de_remplissage_percent_last_year  \\\n",
       "327                  11,9                                  22,4   \n",
       "328                  14,9                                  28,0   \n",
       "329                  16,5                                  31,0   \n",
       "330                  16,6                                  31,1   \n",
       "331                  16,6                                  31,1   \n",
       "\n",
       "              region  \n",
       "327  Marrakech-Safi   \n",
       "328  Marrakech-Safi   \n",
       "329  Marrakech-Safi   \n",
       "330  Marrakech-Safi   \n",
       "331  Marrakech-Safi   "
      ]
     },
     "execution_count": 9,
     "metadata": {},
     "output_type": "execute_result"
    }
   ],
   "source": [
    "merge = pd.merge(weather,barrages)\n",
    "merge.reset_index(inplace=True,drop=True)\n",
    "merge.tail(5)"
   ]
  },
  {
   "cell_type": "code",
   "execution_count": 10,
   "id": "ccd41c94",
   "metadata": {},
   "outputs": [],
   "source": [
    "merge.to_csv(\"./all_data.csv\",index=False)"
   ]
  }
 ],
 "metadata": {
  "kernelspec": {
   "display_name": "Python 3.9.12 ('base')",
   "language": "python",
   "name": "python3"
  },
  "language_info": {
   "codemirror_mode": {
    "name": "ipython",
    "version": 3
   },
   "file_extension": ".py",
   "mimetype": "text/x-python",
   "name": "python",
   "nbconvert_exporter": "python",
   "pygments_lexer": "ipython3",
   "version": "3.9.12"
  },
  "vscode": {
   "interpreter": {
    "hash": "fe697844cfe8a1028ac8cd95af0dad884ddcd4494e6159c72486af12df7aa875"
   }
  }
 },
 "nbformat": 4,
 "nbformat_minor": 5
}
