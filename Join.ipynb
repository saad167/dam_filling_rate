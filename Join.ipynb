{
 "cells": [
  {
   "cell_type": "code",
   "execution_count": 1,
   "id": "1ef7bfa1",
   "metadata": {},
   "outputs": [],
   "source": [
    "import warnings\n",
    "UserWarning(\"ignore\")\n",
    "\n",
    "import pandas as pd\n",
    "import csv"
   ]
  },
  {
   "cell_type": "code",
   "execution_count": 2,
   "id": "7271e0b5",
   "metadata": {},
   "outputs": [],
   "source": [
    "weather = pd.read_csv(\"./weather.csv\")"
   ]
  },
  {
   "cell_type": "code",
   "execution_count": 3,
   "id": "e68bbe04",
   "metadata": {},
   "outputs": [],
   "source": [
    "barrages = pd.read_csv(\"./barrage_data.csv\")"
   ]
  },
  {
   "cell_type": "code",
   "execution_count": 4,
   "id": "47ab2261",
   "metadata": {
    "scrolled": true
   },
   "outputs": [
    {
     "data": {
      "text/html": [
       "<div>\n",
       "<style scoped>\n",
       "    .dataframe tbody tr th:only-of-type {\n",
       "        vertical-align: middle;\n",
       "    }\n",
       "\n",
       "    .dataframe tbody tr th {\n",
       "        vertical-align: top;\n",
       "    }\n",
       "\n",
       "    .dataframe thead th {\n",
       "        text-align: right;\n",
       "    }\n",
       "</style>\n",
       "<table border=\"1\" class=\"dataframe\">\n",
       "  <thead>\n",
       "    <tr style=\"text-align: right;\">\n",
       "      <th></th>\n",
       "      <th>ville</th>\n",
       "      <th>temperature</th>\n",
       "      <th>precipitation</th>\n",
       "      <th>date</th>\n",
       "      <th>barrages</th>\n",
       "      <th>capacite_normal_mm3</th>\n",
       "      <th>reserve_mm3</th>\n",
       "      <th>taux_de_remplissage_percent</th>\n",
       "      <th>reserve_mm3_last_year</th>\n",
       "      <th>taux_de_remplissage_percent_last_year</th>\n",
       "      <th>region</th>\n",
       "    </tr>\n",
       "  </thead>\n",
       "  <tbody>\n",
       "    <tr>\n",
       "      <th>201</th>\n",
       "      <td>Marrakech</td>\n",
       "      <td>27</td>\n",
       "      <td>0.0</td>\n",
       "      <td>2021-10-08</td>\n",
       "      <td>LALLA TAKERKOUST</td>\n",
       "      <td>53,3</td>\n",
       "      <td>10,2</td>\n",
       "      <td>19,2</td>\n",
       "      <td>3,5</td>\n",
       "      <td>6,6</td>\n",
       "      <td>Marrakech-Safi</td>\n",
       "    </tr>\n",
       "    <tr>\n",
       "      <th>202</th>\n",
       "      <td>Marrakech</td>\n",
       "      <td>27</td>\n",
       "      <td>0.0</td>\n",
       "      <td>2021-10-09</td>\n",
       "      <td>LALLA TAKERKOUST</td>\n",
       "      <td>53,3</td>\n",
       "      <td>10,1</td>\n",
       "      <td>19,0</td>\n",
       "      <td>3,4</td>\n",
       "      <td>6,4</td>\n",
       "      <td>Marrakech-Safi</td>\n",
       "    </tr>\n",
       "    <tr>\n",
       "      <th>203</th>\n",
       "      <td>Marrakech</td>\n",
       "      <td>27</td>\n",
       "      <td>0.0</td>\n",
       "      <td>2021-10-10</td>\n",
       "      <td>LALLA TAKERKOUST</td>\n",
       "      <td>53,3</td>\n",
       "      <td>10,1</td>\n",
       "      <td>18,9</td>\n",
       "      <td>3,3</td>\n",
       "      <td>6,2</td>\n",
       "      <td>Marrakech-Safi</td>\n",
       "    </tr>\n",
       "    <tr>\n",
       "      <th>204</th>\n",
       "      <td>Marrakech</td>\n",
       "      <td>29</td>\n",
       "      <td>0.0</td>\n",
       "      <td>2021-10-11</td>\n",
       "      <td>LALLA TAKERKOUST</td>\n",
       "      <td>53,3</td>\n",
       "      <td>10,0</td>\n",
       "      <td>18,7</td>\n",
       "      <td>3,3</td>\n",
       "      <td>6,1</td>\n",
       "      <td>Marrakech-Safi</td>\n",
       "    </tr>\n",
       "    <tr>\n",
       "      <th>205</th>\n",
       "      <td>Marrakech</td>\n",
       "      <td>25</td>\n",
       "      <td>0.0</td>\n",
       "      <td>2021-10-12</td>\n",
       "      <td>LALLA TAKERKOUST</td>\n",
       "      <td>53,3</td>\n",
       "      <td>9,9</td>\n",
       "      <td>18,6</td>\n",
       "      <td>3,3</td>\n",
       "      <td>6,1</td>\n",
       "      <td>Marrakech-Safi</td>\n",
       "    </tr>\n",
       "  </tbody>\n",
       "</table>\n",
       "</div>"
      ],
      "text/plain": [
       "         ville  temperature  precipitation        date          barrages  \\\n",
       "201  Marrakech           27            0.0  2021-10-08  LALLA TAKERKOUST   \n",
       "202  Marrakech           27            0.0  2021-10-09  LALLA TAKERKOUST   \n",
       "203  Marrakech           27            0.0  2021-10-10  LALLA TAKERKOUST   \n",
       "204  Marrakech           29            0.0  2021-10-11  LALLA TAKERKOUST   \n",
       "205  Marrakech           25            0.0  2021-10-12  LALLA TAKERKOUST   \n",
       "\n",
       "    capacite_normal_mm3 reserve_mm3 taux_de_remplissage_percent  \\\n",
       "201                53,3        10,2                        19,2   \n",
       "202                53,3        10,1                        19,0   \n",
       "203                53,3        10,1                        18,9   \n",
       "204                53,3        10,0                        18,7   \n",
       "205                53,3         9,9                        18,6   \n",
       "\n",
       "    reserve_mm3_last_year taux_de_remplissage_percent_last_year  \\\n",
       "201                   3,5                                   6,6   \n",
       "202                   3,4                                   6,4   \n",
       "203                   3,3                                   6,2   \n",
       "204                   3,3                                   6,1   \n",
       "205                   3,3                                   6,1   \n",
       "\n",
       "              region  \n",
       "201  Marrakech-Safi   \n",
       "202  Marrakech-Safi   \n",
       "203  Marrakech-Safi   \n",
       "204  Marrakech-Safi   \n",
       "205  Marrakech-Safi   "
      ]
     },
     "execution_count": 4,
     "metadata": {},
     "output_type": "execute_result"
    }
   ],
   "source": [
    "merge = pd.merge(weather,barrages)\n",
    "merge.reset_index(inplace=True,drop=True)\n",
    "merge.tail(5)"
   ]
  },
  {
   "cell_type": "code",
   "execution_count": 5,
   "id": "ccd41c94",
   "metadata": {},
   "outputs": [],
   "source": [
    "merge.to_csv(\"./all_data.csv\",index=False)"
   ]
  }
 ],
 "metadata": {
  "kernelspec": {
   "display_name": "Python 3.9.12 ('base')",
   "language": "python",
   "name": "python3"
  },
  "language_info": {
   "codemirror_mode": {
    "name": "ipython",
    "version": 3
   },
   "file_extension": ".py",
   "mimetype": "text/x-python",
   "name": "python",
   "nbconvert_exporter": "python",
   "pygments_lexer": "ipython3",
   "version": "3.9.12"
  },
  "vscode": {
   "interpreter": {
    "hash": "fe697844cfe8a1028ac8cd95af0dad884ddcd4494e6159c72486af12df7aa875"
   }
  }
 },
 "nbformat": 4,
 "nbformat_minor": 5
}
