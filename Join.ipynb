{
 "cells": [
  {
   "cell_type": "code",
   "execution_count": null,
   "id": "1ef7bfa1",
   "metadata": {},
   "outputs": [],
   "source": [
    "import pandas as pd\n",
    "import csv"
   ]
  },
  {
   "cell_type": "code",
   "execution_count": null,
   "id": "7271e0b5",
   "metadata": {},
   "outputs": [],
   "source": [
    "weather = pd.read_csv(\"./weather.csv\")"
   ]
  },
  {
   "cell_type": "code",
   "execution_count": null,
   "id": "e68bbe04",
   "metadata": {},
   "outputs": [],
   "source": [
    "barrages = pd.read_csv(\"./barrage_data.csv\")"
   ]
  },
  {
   "cell_type": "code",
   "execution_count": null,
   "id": "47ab2261",
   "metadata": {
    "scrolled": true
   },
   "outputs": [],
   "source": [
    "merge = pd.merge(weather,barrages)\n",
    "merge.reset_index(inplace=True,drop=True)\n",
    "merge.head(5)"
   ]
  },
  {
   "cell_type": "code",
   "execution_count": null,
   "id": "ccd41c94",
   "metadata": {},
   "outputs": [],
   "source": [
    "merge.to_csv(\"./all_data.csv\",index=False)"
   ]
  }
 ],
 "metadata": {
  "kernelspec": {
   "display_name": "Python 3",
   "language": "python",
   "name": "python3"
  },
  "language_info": {
   "codemirror_mode": {
    "name": "ipython",
    "version": 3
   },
   "file_extension": ".py",
   "mimetype": "text/x-python",
   "name": "python",
   "nbconvert_exporter": "python",
   "pygments_lexer": "ipython3",
   "version": "3.6.9"
  }
 },
 "nbformat": 4,
 "nbformat_minor": 5
}
