{
 "cells": [
  {
   "cell_type": "code",
   "execution_count": 2,
   "id": "1ef7bfa1",
   "metadata": {},
   "outputs": [],
   "source": [
    "import warnings\n",
    "UserWarning(\"ignore\")\n",
    "\n",
    "import pandas as pd\n",
    "import csv"
   ]
  },
  {
   "cell_type": "code",
   "execution_count": 3,
   "id": "7271e0b5",
   "metadata": {},
   "outputs": [],
   "source": [
    "weather = pd.read_csv(\"./weather.csv\")"
   ]
  },
  {
   "cell_type": "code",
   "execution_count": 4,
   "id": "e68bbe04",
   "metadata": {},
   "outputs": [],
   "source": [
    "barrages = pd.read_csv(\"./barrage_data.csv\")"
   ]
  },
  {
   "cell_type": "code",
   "execution_count": 7,
   "id": "47ab2261",
   "metadata": {
    "scrolled": true
   },
   "outputs": [
    {
     "data": {
      "text/html": [
       "<div>\n",
       "<style scoped>\n",
       "    .dataframe tbody tr th:only-of-type {\n",
       "        vertical-align: middle;\n",
       "    }\n",
       "\n",
       "    .dataframe tbody tr th {\n",
       "        vertical-align: top;\n",
       "    }\n",
       "\n",
       "    .dataframe thead th {\n",
       "        text-align: right;\n",
       "    }\n",
       "</style>\n",
       "<table border=\"1\" class=\"dataframe\">\n",
       "  <thead>\n",
       "    <tr style=\"text-align: right;\">\n",
       "      <th></th>\n",
       "      <th>ville</th>\n",
       "      <th>temperature</th>\n",
       "      <th>precipitation</th>\n",
       "      <th>date</th>\n",
       "      <th>barrages</th>\n",
       "      <th>capacite_normal_mm3</th>\n",
       "      <th>reserve_mm3</th>\n",
       "      <th>taux_de_remplissage_percent</th>\n",
       "      <th>reserve_mm3_last_year</th>\n",
       "      <th>taux_de_remplissage_percent_last_year</th>\n",
       "      <th>region</th>\n",
       "    </tr>\n",
       "  </thead>\n",
       "  <tbody>\n",
       "    <tr>\n",
       "      <th>2</th>\n",
       "      <td>Marrakech</td>\n",
       "      <td>24</td>\n",
       "      <td>0.0</td>\n",
       "      <td>2021-03-15</td>\n",
       "      <td>LALLA TAKERKOUST</td>\n",
       "      <td>53,3</td>\n",
       "      <td>16,6</td>\n",
       "      <td>31,1</td>\n",
       "      <td>3,4</td>\n",
       "      <td>6,5</td>\n",
       "      <td>Marrakech-Safi</td>\n",
       "    </tr>\n",
       "    <tr>\n",
       "      <th>3</th>\n",
       "      <td>Marrakech</td>\n",
       "      <td>23</td>\n",
       "      <td>0.0</td>\n",
       "      <td>2021-03-16</td>\n",
       "      <td>LALLA TAKERKOUST</td>\n",
       "      <td>53,3</td>\n",
       "      <td>16,6</td>\n",
       "      <td>31,1</td>\n",
       "      <td>3,4</td>\n",
       "      <td>6,5</td>\n",
       "      <td>Marrakech-Safi</td>\n",
       "    </tr>\n",
       "    <tr>\n",
       "      <th>4</th>\n",
       "      <td>Marrakech</td>\n",
       "      <td>22</td>\n",
       "      <td>0.0</td>\n",
       "      <td>2021-03-17</td>\n",
       "      <td>LALLA TAKERKOUST</td>\n",
       "      <td>53,3</td>\n",
       "      <td>16,6</td>\n",
       "      <td>31,1</td>\n",
       "      <td>3,4</td>\n",
       "      <td>6,5</td>\n",
       "      <td>Marrakech-Safi</td>\n",
       "    </tr>\n",
       "    <tr>\n",
       "      <th>5</th>\n",
       "      <td>Marrakech</td>\n",
       "      <td>18</td>\n",
       "      <td>0.0</td>\n",
       "      <td>2021-03-18</td>\n",
       "      <td>LALLA TAKERKOUST</td>\n",
       "      <td>53,3</td>\n",
       "      <td>16,6</td>\n",
       "      <td>31,1</td>\n",
       "      <td>3,4</td>\n",
       "      <td>6,5</td>\n",
       "      <td>Marrakech-Safi</td>\n",
       "    </tr>\n",
       "    <tr>\n",
       "      <th>6</th>\n",
       "      <td>Marrakech</td>\n",
       "      <td>16</td>\n",
       "      <td>1.5</td>\n",
       "      <td>2021-03-19</td>\n",
       "      <td>LALLA TAKERKOUST</td>\n",
       "      <td>53,3</td>\n",
       "      <td>16,6</td>\n",
       "      <td>31,1</td>\n",
       "      <td>3,4</td>\n",
       "      <td>6,5</td>\n",
       "      <td>Marrakech-Safi</td>\n",
       "    </tr>\n",
       "  </tbody>\n",
       "</table>\n",
       "</div>"
      ],
      "text/plain": [
       "       ville  temperature  precipitation        date          barrages  \\\n",
       "2  Marrakech           24            0.0  2021-03-15  LALLA TAKERKOUST   \n",
       "3  Marrakech           23            0.0  2021-03-16  LALLA TAKERKOUST   \n",
       "4  Marrakech           22            0.0  2021-03-17  LALLA TAKERKOUST   \n",
       "5  Marrakech           18            0.0  2021-03-18  LALLA TAKERKOUST   \n",
       "6  Marrakech           16            1.5  2021-03-19  LALLA TAKERKOUST   \n",
       "\n",
       "  capacite_normal_mm3 reserve_mm3 taux_de_remplissage_percent  \\\n",
       "2                53,3        16,6                        31,1   \n",
       "3                53,3        16,6                        31,1   \n",
       "4                53,3        16,6                        31,1   \n",
       "5                53,3        16,6                        31,1   \n",
       "6                53,3        16,6                        31,1   \n",
       "\n",
       "  reserve_mm3_last_year taux_de_remplissage_percent_last_year           region  \n",
       "2                   3,4                                   6,5  Marrakech-Safi   \n",
       "3                   3,4                                   6,5  Marrakech-Safi   \n",
       "4                   3,4                                   6,5  Marrakech-Safi   \n",
       "5                   3,4                                   6,5  Marrakech-Safi   \n",
       "6                   3,4                                   6,5  Marrakech-Safi   "
      ]
     },
     "execution_count": 7,
     "metadata": {},
     "output_type": "execute_result"
    }
   ],
   "source": [
    "merge = pd.merge(weather,barrages)\n",
    "merge.reset_index(inplace=True,drop=True)\n",
    "merge.tail(5)"
   ]
  },
  {
   "cell_type": "code",
   "execution_count": 8,
   "id": "ccd41c94",
   "metadata": {},
   "outputs": [],
   "source": [
    "merge.to_csv(\"./all_data.csv\",index=False)"
   ]
  }
 ],
 "metadata": {
  "kernelspec": {
   "display_name": "Python 3.8.8 64-bit",
   "language": "python",
   "name": "python3"
  },
  "language_info": {
   "codemirror_mode": {
    "name": "ipython",
    "version": 3
   },
   "file_extension": ".py",
   "mimetype": "text/x-python",
   "name": "python",
   "nbconvert_exporter": "python",
   "pygments_lexer": "ipython3",
   "version": "3.8.8"
  },
  "vscode": {
   "interpreter": {
    "hash": "892b1dbae191cb403baa4bf29e539705d2bb168fb9a756bde180b5b738f682b9"
   }
  }
 },
 "nbformat": 4,
 "nbformat_minor": 5
}
