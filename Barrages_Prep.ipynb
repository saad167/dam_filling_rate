{
 "cells": [
  {
   "cell_type": "code",
   "execution_count": null,
   "id": "7145f527",
   "metadata": {},
   "outputs": [],
   "source": [
    "#importer les bibliothèques"
   ]
  },
  {
   "cell_type": "code",
   "execution_count": 28,
   "id": "927fc037",
   "metadata": {},
   "outputs": [],
   "source": [
    "import warnings\n",
    "UserWarning(\"ignore\")\n",
    "import json\n",
    "import pandas as pd\n",
    "import datetime\n",
    "import tabula.io\n",
    "from tabula.io import read_pdf\n",
    "import wget\n",
    "\n",
    "from tabulate import tabulate\n",
    "import os\n",
    "import copy"
   ]
  },
  {
   "cell_type": "code",
   "execution_count": null,
   "id": "a20e12c7",
   "metadata": {},
   "outputs": [],
   "source": [
    "#télécharger les fichiers JSON des villes & regions"
   ]
  },
  {
   "cell_type": "code",
   "execution_count": 30,
   "id": "6db41e1e",
   "metadata": {},
   "outputs": [
    {
     "data": {
      "text/plain": [
       "'ville (1).json'"
      ]
     },
     "execution_count": 30,
     "metadata": {},
     "output_type": "execute_result"
    }
   ],
   "source": [
    "wget.download(\"https://raw.githubusercontent.com/alaouy/sql-moroccan-cities/master/json/ville.json\")"
   ]
  },
  {
   "cell_type": "code",
   "execution_count": null,
   "id": "88555421",
   "metadata": {},
   "outputs": [],
   "source": [
    "wget.download(\"https://raw.githubusercontent.com/alaouy/sql-moroccan-cities/master/json/region.json\")"
   ]
  },
  {
   "cell_type": "code",
   "execution_count": null,
   "id": "11dcb5d3",
   "metadata": {},
   "outputs": [],
   "source": [
    "#construite un pandas data frame pour les villes et les régions"
   ]
  },
  {
   "cell_type": "code",
   "execution_count": 11,
   "id": "2d312c0f",
   "metadata": {},
   "outputs": [],
   "source": [
    "cities = pd.read_json(\"ville.json\",orient=\"records\")\n",
    "cities.rename(columns={'id': 'id_ville', 'region': 'id_region'}, inplace=True)"
   ]
  },
  {
   "cell_type": "code",
   "execution_count": 12,
   "id": "8e68060c",
   "metadata": {},
   "outputs": [],
   "source": [
    "regions = pd.read_json(\"region.json\",orient=\"records\")\n",
    "regions.rename(columns={'id': 'id_region'}, inplace=True)"
   ]
  },
  {
   "cell_type": "code",
   "execution_count": 13,
   "id": "6b380d4f",
   "metadata": {
    "scrolled": true
   },
   "outputs": [
    {
     "data": {
      "text/html": [
       "<div>\n",
       "<style scoped>\n",
       "    .dataframe tbody tr th:only-of-type {\n",
       "        vertical-align: middle;\n",
       "    }\n",
       "\n",
       "    .dataframe tbody tr th {\n",
       "        vertical-align: top;\n",
       "    }\n",
       "\n",
       "    .dataframe thead th {\n",
       "        text-align: right;\n",
       "    }\n",
       "</style>\n",
       "<table border=\"1\" class=\"dataframe\">\n",
       "  <thead>\n",
       "    <tr style=\"text-align: right;\">\n",
       "      <th></th>\n",
       "      <th>id_ville</th>\n",
       "      <th>ville</th>\n",
       "      <th>id_region</th>\n",
       "      <th>region</th>\n",
       "    </tr>\n",
       "  </thead>\n",
       "  <tbody>\n",
       "    <tr>\n",
       "      <th>0</th>\n",
       "      <td>0</td>\n",
       "      <td>Afourar</td>\n",
       "      <td>5</td>\n",
       "      <td>Béni Mellal-Khénifra</td>\n",
       "    </tr>\n",
       "    <tr>\n",
       "      <th>1</th>\n",
       "      <td>3</td>\n",
       "      <td>Aghbala</td>\n",
       "      <td>5</td>\n",
       "      <td>Béni Mellal-Khénifra</td>\n",
       "    </tr>\n",
       "  </tbody>\n",
       "</table>\n",
       "</div>"
      ],
      "text/plain": [
       "   id_ville    ville  id_region                region\n",
       "0         0  Afourar          5  Béni Mellal-Khénifra\n",
       "1         3  Aghbala          5  Béni Mellal-Khénifra"
      ]
     },
     "execution_count": 13,
     "metadata": {},
     "output_type": "execute_result"
    }
   ],
   "source": [
    "cities_regions = pd.merge(cities,regions)\n",
    "cities_regions.head(2)"
   ]
  },
  {
   "cell_type": "code",
   "execution_count": null,
   "id": "ad03f849",
   "metadata": {},
   "outputs": [],
   "source": [
    "#sur Linux WSL / google collab test du téléchargement pour un seul fichier"
   ]
  },
  {
   "cell_type": "code",
   "execution_count": 33,
   "id": "ff9b3ac9",
   "metadata": {
    "scrolled": true
   },
   "outputs": [
    {
     "data": {
      "text/plain": [
       "'./in/1_3_2022.pdf'"
      ]
     },
     "execution_count": 33,
     "metadata": {},
     "output_type": "execute_result"
    }
   ],
   "source": [
    "wget.download(\"http://81.192.10.228/wp-content/uploads/2022/03/1_3_2022.pdf\",out=\"./in\")"
   ]
  },
  {
   "cell_type": "code",
   "execution_count": null,
   "id": "98cf5bfa",
   "metadata": {},
   "outputs": [],
   "source": [
    "#parametrage du téléchargement pour plusieurs fichiers sur une marge de date"
   ]
  },
  {
   "cell_type": "code",
   "execution_count": 37,
   "id": "00352ec7",
   "metadata": {},
   "outputs": [],
   "source": [
    "start = datetime.datetime(2021,3,13)\n",
    "end = datetime.datetime(2021,3,20)"
   ]
  },
  {
   "cell_type": "code",
   "execution_count": 16,
   "id": "28b78ad9",
   "metadata": {},
   "outputs": [],
   "source": [
    "#téléchargement de tout les fichiers vers un dossier in/"
   ]
  },
  {
   "cell_type": "code",
   "execution_count": 39,
   "id": "b4ebb39e",
   "metadata": {
    "scrolled": true
   },
   "outputs": [
    {
     "name": "stdout",
     "output_type": "stream",
     "text": [
      "2021 3 13\n",
      "http://81.192.10.228/wp-content/uploads/2021/03/13_3_2021.pdf\n",
      "-----------\n",
      "2021 3 14\n",
      "http://81.192.10.228/wp-content/uploads/2021/03/14_3_2021.pdf\n",
      "-----------\n",
      "2021 3 15\n",
      "http://81.192.10.228/wp-content/uploads/2021/03/15_3_2021.pdf\n",
      "-----------\n",
      "2021 3 16\n",
      "http://81.192.10.228/wp-content/uploads/2021/03/16_3_2021.pdf\n",
      "-----------\n",
      "2021 3 17\n",
      "http://81.192.10.228/wp-content/uploads/2021/03/17_3_2021.pdf\n",
      "-----------\n",
      "2021 3 18\n",
      "http://81.192.10.228/wp-content/uploads/2021/03/18_3_2021.pdf\n",
      "-----------\n",
      "2021 3 19\n",
      "http://81.192.10.228/wp-content/uploads/2021/03/19_3_2021.pdf\n",
      "-----------\n"
     ]
    }
   ],
   "source": [
    "d = start\n",
    "c=1\n",
    "while(d<end):\n",
    "    try:\n",
    "        print(d.year,d.month,d.day)\n",
    "        month = str(d.month)\n",
    "        if d.month<10:\n",
    "            month = \"0\"+month\n",
    "        wget.download(f\"http://81.192.10.228/wp-content/uploads/{d.year}/{month}/{d.day}_{d.month}_{d.year}.pdf\", out =\"./in\")\n",
    "        print(f\"http://81.192.10.228/wp-content/uploads/{d.year}/{month}/{d.day}_{d.month}_{d.year}.pdf\")\n",
    "    except Exception as e:\n",
    "        print(\"\\n-> ERROR!!!!\",e)\n",
    "        \n",
    "    d = d+datetime.timedelta(days=1)\n",
    "  \n",
    "    print(\"-----------\")"
   ]
  },
  {
   "cell_type": "code",
   "execution_count": null,
   "id": "3fa55ee3",
   "metadata": {},
   "outputs": [],
   "source": [
    "#lister tout les fichiers téléchargés"
   ]
  },
  {
   "cell_type": "code",
   "execution_count": 40,
   "id": "50dfb994",
   "metadata": {},
   "outputs": [
    {
     "name": "stdout",
     "output_type": "stream",
     "text": [
      "Searching...\n",
      "ALL DONE! 7 sources/tables found\n"
     ]
    }
   ],
   "source": [
    "import os\n",
    "import re\n",
    "filepath=\"./in/\" #root path for checking\n",
    "full_path = filepath\n",
    "filepattern=r\"\\b(\\w*.pdf)\"\n",
    "filepattern = full_path.replace(\"/\",\"\\/\")+filepattern\n",
    "file_pattern = re.compile(filepattern)\n",
    "\n",
    "print(\"Searching...\")\n",
    "counter=0\n",
    "tables=[]\n",
    "try:\n",
    "  #######################################\n",
    "    for dirpath, subdirs, files in os.walk(full_path):\n",
    "        for x in files:\n",
    "            if x.endswith(\".pdf\"):        \n",
    "                if re.match(file_pattern, os.path.join(dirpath, x)):\n",
    "                    data = os.path.join(dirpath, x).split(\"/\")[-1].split(\".\")[0]\n",
    "                    tables.append(data.upper())\n",
    "                    counter+=1\n",
    "#                     print(\"\")\n",
    "#                     context['task_instance'].xcom_push('file_name', files)\n",
    "#                     return True\n",
    "    print(f\"ALL DONE! {counter} sources/tables found\")\n",
    "#     return False\n",
    "except:\n",
    "    print(\"OOOOPS ERORRS ARE HERE!\")\n",
    "#     return False\n",
    "# print(\"\\n\\n\",tables)"
   ]
  },
  {
   "cell_type": "code",
   "execution_count": null,
   "id": "c6da3b5f",
   "metadata": {},
   "outputs": [],
   "source": [
    "# Conversion de tout les fichiers téléchargés vers des csv non nettoyés"
   ]
  },
  {
   "cell_type": "code",
   "execution_count": 42,
   "id": "f874c416",
   "metadata": {
    "scrolled": true
   },
   "outputs": [
    {
     "name": "stdout",
     "output_type": "stream",
     "text": [
      "13_3_2021.pdf\n"
     ]
    },
    {
     "name": "stderr",
     "output_type": "stream",
     "text": [
      "Got stderr: nov. 12, 2022 7:11:51 PM org.apache.pdfbox.pdmodel.font.FileSystemFontProvider loadDiskCache\n",
      "WARNING: New fonts found, font cache will be re-built\n",
      "nov. 12, 2022 7:11:52 PM org.apache.pdfbox.pdmodel.font.FileSystemFontProvider <init>\n",
      "WARNING: Building on-disk font cache, this may take a while\n",
      "nov. 12, 2022 7:11:54 PM org.apache.pdfbox.pdmodel.font.FileSystemFontProvider <init>\n",
      "WARNING: Finished building on-disk font cache, found 399 fonts\n",
      "\n"
     ]
    },
    {
     "name": "stdout",
     "output_type": "stream",
     "text": [
      "-----------\n",
      "14_3_2021.pdf\n",
      "-----------\n",
      "15_3_2021.pdf\n",
      "-----------\n",
      "16_3_2021.pdf\n",
      "-----------\n",
      "17_3_2021.pdf\n",
      "-----------\n",
      "18_3_2021.pdf\n",
      "-----------\n",
      "19_3_2021.pdf\n",
      "-----------\n"
     ]
    }
   ],
   "source": [
    "\n",
    "for file in tables:\n",
    "    try:\n",
    "        print(file+\".pdf\")        \n",
    "        tabula.io.convert_into(f\"./in/{file}.pdf\",f\"./out/{file}.csv\",output_format=\"csv\",pages=\"all\")\n",
    "\n",
    "    except Exception as e:\n",
    "        print(\"\\n-> ERROR!!!!\",e) \n",
    "    print(\"-----------\")\n"
   ]
  },
  {
   "cell_type": "code",
   "execution_count": null,
   "id": "115a62b1",
   "metadata": {},
   "outputs": [],
   "source": [
    "#dev code abandonné"
   ]
  },
  {
   "cell_type": "code",
   "execution_count": null,
   "id": "c351dc47",
   "metadata": {},
   "outputs": [],
   "source": [
    "\n",
    "#tabula.convert_into(\"1_3_2022.pdf\",\"output.csv\",output_format=\"csv\",pages=\"all\")\n",
    "\n",
    "# import camelot\n",
    " \n",
    "# # extract all the tables in the PDF file\n",
    "# abc = camelot.read_pdf(\"1_3_2022.pdf\")   #address of file location\n",
    " \n",
    "# # print the first table as Pandas DataFrame\n",
    "# print(abc[0].df)"
   ]
  },
  {
   "cell_type": "code",
   "execution_count": null,
   "id": "0feef050",
   "metadata": {},
   "outputs": [],
   "source": []
  },
  {
   "cell_type": "code",
   "execution_count": null,
   "id": "86e26e6c",
   "metadata": {
    "scrolled": true
   },
   "outputs": [],
   "source": [
    "# from csv import reader\n",
    "# # open file in read mode\n",
    "# with open('./out/2_11_2021.csv', 'r') as read_obj:\n",
    "#     # pass the file object to reader() to get the reader object\n",
    "#     csv_reader = reader(read_obj)\n",
    "#     # Iterate over each row in the csv using reader object\n",
    "#     all_rows = []\n",
    "#     for row in csv_reader:\n",
    "#         # row variable is a list that represents a row in csv\n",
    "#         all_rows.append(row)\n",
    "# data = all_rows[4:]\n",
    "# columns = [\"BARRAGES\",\"CAPACITE NORMALE (Mm3)\",\"RESERVE (Mm3)\",\"TAUX DE REMPLISSAGE ( % )\",\"RESERVE (Mm3) Last Year\",\"TAUX DE REMPLISSAGE ( % ) Last Year\"]\n",
    "# df = pd.DataFrame(data=data,columns=columns)\n",
    "# df[\"date\"] =  datetime.datetime.strptime(\"2_11_2021\", '%d_%m_%Y')\n",
    "# df"
   ]
  },
  {
   "cell_type": "code",
   "execution_count": null,
   "id": "d3df0654",
   "metadata": {},
   "outputs": [],
   "source": [
    "#lecture de tout les csv en sorti avec la lib csv et la concaténation de toute la data dans un seul csv"
   ]
  },
  {
   "cell_type": "code",
   "execution_count": 43,
   "id": "dc7c46ea",
   "metadata": {},
   "outputs": [],
   "source": [
    "dfs = []\n",
    "for file in tables:\n",
    "    from csv import reader\n",
    "    # open file in read mode\n",
    "    with open(f'./out/{file}.csv', 'r') as read_obj:\n",
    "        # pass the file object to reader() to get the reader object\n",
    "        csv_reader = reader(read_obj)\n",
    "        # Iterate over each row in the csv using reader object\n",
    "        all_rows = []\n",
    "        for row in csv_reader:\n",
    "            # row variable is a list that represents a row in csv\n",
    "            all_rows.append(row)\n",
    "    data = all_rows[4:]\n",
    "    columns = [\"barrages\",\"capacite_normal_mm3\",\"reserve_mm3\",\"taux_de_remplissage_percent\",\"reserve_mm3_last_year\",\"taux_de_remplissage_percent_last_year\"]\n",
    "    df = pd.DataFrame(data=data,columns=columns)\n",
    "    df[\"date\"] =  datetime.datetime.strptime(file, '%d_%m_%Y').strftime(\"%Y-%m-%d\")\n",
    "    dfs.append(copy.copy(df))"
   ]
  },
  {
   "cell_type": "code",
   "execution_count": 44,
   "id": "61c3de01",
   "metadata": {},
   "outputs": [
    {
     "name": "stdout",
     "output_type": "stream",
     "text": [
      "437\n"
     ]
    }
   ],
   "source": [
    "count=0\n",
    "for i in range(len(dfs)):\n",
    "    count+=len(dfs[i])\n",
    "print(count)"
   ]
  },
  {
   "cell_type": "code",
   "execution_count": 45,
   "id": "432f9ceb",
   "metadata": {},
   "outputs": [
    {
     "data": {
      "text/html": [
       "<div>\n",
       "<style scoped>\n",
       "    .dataframe tbody tr th:only-of-type {\n",
       "        vertical-align: middle;\n",
       "    }\n",
       "\n",
       "    .dataframe tbody tr th {\n",
       "        vertical-align: top;\n",
       "    }\n",
       "\n",
       "    .dataframe thead th {\n",
       "        text-align: right;\n",
       "    }\n",
       "</style>\n",
       "<table border=\"1\" class=\"dataframe\">\n",
       "  <thead>\n",
       "    <tr style=\"text-align: right;\">\n",
       "      <th></th>\n",
       "      <th>barrages</th>\n",
       "      <th>capacite_normal_mm3</th>\n",
       "      <th>reserve_mm3</th>\n",
       "      <th>taux_de_remplissage_percent</th>\n",
       "      <th>reserve_mm3_last_year</th>\n",
       "      <th>taux_de_remplissage_percent_last_year</th>\n",
       "      <th>date</th>\n",
       "    </tr>\n",
       "  </thead>\n",
       "  <tbody>\n",
       "    <tr>\n",
       "      <th>0</th>\n",
       "      <td>OUED EL MAKHAZINE</td>\n",
       "      <td>672,9</td>\n",
       "      <td>670,0</td>\n",
       "      <td>99,6</td>\n",
       "      <td>652,6</td>\n",
       "      <td>97,0</td>\n",
       "      <td>2021-03-13</td>\n",
       "    </tr>\n",
       "    <tr>\n",
       "      <th>1</th>\n",
       "      <td>TANGER - MEDITERRANEE</td>\n",
       "      <td>22,0</td>\n",
       "      <td>19,1</td>\n",
       "      <td>86,8</td>\n",
       "      <td>13,2</td>\n",
       "      <td>60,2</td>\n",
       "      <td>2021-03-13</td>\n",
       "    </tr>\n",
       "    <tr>\n",
       "      <th>2</th>\n",
       "      <td>IBN BATTOUTA</td>\n",
       "      <td>29,1</td>\n",
       "      <td>29,1</td>\n",
       "      <td>100,0</td>\n",
       "      <td>5,4</td>\n",
       "      <td>18,7</td>\n",
       "      <td>2021-03-13</td>\n",
       "    </tr>\n",
       "    <tr>\n",
       "      <th>3</th>\n",
       "      <td>NEUF AVRIL 1947</td>\n",
       "      <td>300,0</td>\n",
       "      <td>76,5</td>\n",
       "      <td>25,5</td>\n",
       "      <td>75,2</td>\n",
       "      <td>25,1</td>\n",
       "      <td>2021-03-13</td>\n",
       "    </tr>\n",
       "    <tr>\n",
       "      <th>4</th>\n",
       "      <td>NAKHLA</td>\n",
       "      <td>4,21</td>\n",
       "      <td>4,11</td>\n",
       "      <td>97,6</td>\n",
       "      <td>4,2</td>\n",
       "      <td>99,1</td>\n",
       "      <td>2021-03-13</td>\n",
       "    </tr>\n",
       "    <tr>\n",
       "      <th>...</th>\n",
       "      <td>...</td>\n",
       "      <td>...</td>\n",
       "      <td>...</td>\n",
       "      <td>...</td>\n",
       "      <td>...</td>\n",
       "      <td>...</td>\n",
       "      <td>...</td>\n",
       "    </tr>\n",
       "    <tr>\n",
       "      <th>432</th>\n",
       "      <td>SULTAN MOULAY ALI CHERIF</td>\n",
       "      <td>280,2</td>\n",
       "      <td>164,5</td>\n",
       "      <td>58,7</td>\n",
       "      <td>162,8</td>\n",
       "      <td>58,1</td>\n",
       "      <td>2021-03-19</td>\n",
       "    </tr>\n",
       "    <tr>\n",
       "      <th>433</th>\n",
       "      <td>HASSAN ADDAKHIL</td>\n",
       "      <td>312,8</td>\n",
       "      <td>58,1</td>\n",
       "      <td>18,6</td>\n",
       "      <td>85,0</td>\n",
       "      <td>27,2</td>\n",
       "      <td>2021-03-19</td>\n",
       "    </tr>\n",
       "    <tr>\n",
       "      <th>434</th>\n",
       "      <td>SAQUIAT ALHAMRA</td>\n",
       "      <td>-</td>\n",
       "      <td>-</td>\n",
       "      <td>-</td>\n",
       "      <td>-</td>\n",
       "      <td>-</td>\n",
       "      <td>2021-03-19</td>\n",
       "    </tr>\n",
       "    <tr>\n",
       "      <th>435</th>\n",
       "      <td>TWUIZGUI RAMZ</td>\n",
       "      <td>15,0</td>\n",
       "      <td>0,0</td>\n",
       "      <td>0,0</td>\n",
       "      <td>0,0</td>\n",
       "      <td>0,0</td>\n",
       "      <td>2021-03-19</td>\n",
       "    </tr>\n",
       "    <tr>\n",
       "      <th>436</th>\n",
       "      <td>ENSEMBLE DES BARRAGES</td>\n",
       "      <td>16122,6</td>\n",
       "      <td>8193,7</td>\n",
       "      <td>50,8</td>\n",
       "      <td>7195,4</td>\n",
       "      <td>46,1</td>\n",
       "      <td>2021-03-19</td>\n",
       "    </tr>\n",
       "  </tbody>\n",
       "</table>\n",
       "<p>437 rows × 7 columns</p>\n",
       "</div>"
      ],
      "text/plain": [
       "                     barrages capacite_normal_mm3 reserve_mm3  \\\n",
       "0           OUED EL MAKHAZINE               672,9       670,0   \n",
       "1       TANGER - MEDITERRANEE                22,0        19,1   \n",
       "2                IBN BATTOUTA                29,1        29,1   \n",
       "3             NEUF AVRIL 1947               300,0        76,5   \n",
       "4                      NAKHLA                4,21        4,11   \n",
       "..                        ...                 ...         ...   \n",
       "432  SULTAN MOULAY ALI CHERIF               280,2       164,5   \n",
       "433           HASSAN ADDAKHIL               312,8        58,1   \n",
       "434           SAQUIAT ALHAMRA                   -           -   \n",
       "435             TWUIZGUI RAMZ                15,0         0,0   \n",
       "436     ENSEMBLE DES BARRAGES             16122,6      8193,7   \n",
       "\n",
       "    taux_de_remplissage_percent reserve_mm3_last_year  \\\n",
       "0                          99,6                 652,6   \n",
       "1                          86,8                  13,2   \n",
       "2                         100,0                   5,4   \n",
       "3                          25,5                  75,2   \n",
       "4                          97,6                   4,2   \n",
       "..                          ...                   ...   \n",
       "432                        58,7                 162,8   \n",
       "433                        18,6                  85,0   \n",
       "434                           -                     -   \n",
       "435                         0,0                   0,0   \n",
       "436                        50,8                7195,4   \n",
       "\n",
       "    taux_de_remplissage_percent_last_year        date  \n",
       "0                                    97,0  2021-03-13  \n",
       "1                                    60,2  2021-03-13  \n",
       "2                                    18,7  2021-03-13  \n",
       "3                                    25,1  2021-03-13  \n",
       "4                                    99,1  2021-03-13  \n",
       "..                                    ...         ...  \n",
       "432                                  58,1  2021-03-19  \n",
       "433                                  27,2  2021-03-19  \n",
       "434                                     -  2021-03-19  \n",
       "435                                   0,0  2021-03-19  \n",
       "436                                  46,1  2021-03-19  \n",
       "\n",
       "[437 rows x 7 columns]"
      ]
     },
     "execution_count": 45,
     "metadata": {},
     "output_type": "execute_result"
    }
   ],
   "source": [
    "all_data = pd.concat(dfs)\n",
    "all_data = all_data.reset_index()\n",
    "all_data = all_data.drop([\"index\"],axis=1)\n",
    "all_data"
   ]
  },
  {
   "cell_type": "code",
   "execution_count": 46,
   "id": "507f23d9",
   "metadata": {
    "scrolled": true
   },
   "outputs": [
    {
     "data": {
      "text/plain": [
       "array(['OUED EL MAKHAZINE', 'TANGER - MEDITERRANEE', 'IBN BATTOUTA',\n",
       "       'NEUF AVRIL 1947', 'NAKHLA', 'MY HASSAN BEN AL MAHDI', 'SMIR',\n",
       "       'M.B.A. AL KHATTABI', 'CHEFCHAOUEN', 'ACHARIF AL IDRISSI',\n",
       "       'HASSAN II', 'Dar Khrofa', 'JOUMOUA', 'INJIL',\n",
       "       'BARRAGE SUR OUED ZA', 'MOHAMED V', 'MECHRAA HOMMADI', 'BAB LOUTA',\n",
       "       'IDRISS 1 er', 'ALLAL EL FASSI', 'SIDI ECHAHED', 'SAHLA',\n",
       "       'BOUHOUDA', 'ASFALOU', 'ALWAHDA', 'GARDE SEBOU', 'EL KENSERA',\n",
       "       'MICHLIFEN', 'AL HIMER', 'S.M.  BEN ABDEELLAH', 'TAMESNA',\n",
       "       'OUED MELLAH', 'BIN EL OUIDANE', 'HASSAN 1er', 'SIDI DRISS',\n",
       "       'MOULAY YOUSSEF', 'TIMINOUTINE', 'AHMED AL HANSSALI',\n",
       "       'AIT MESSAOUD', 'AL MASSIRA', 'IMFOUT', 'DAOURAT',\n",
       "       'SIDI SAID MAACHOU', \"S.M'HAMED BEN SLIMAN JAZOULI\",\n",
       "       'YAAKOUB MANSOUR', 'ABOU EL ABBAS ESSABTI', 'LALLA TAKERKOUST',\n",
       "       'BARRAGE MOULAY ABDERRAHMANE', 'DKHILA', 'MOULAY ABDALLAH',\n",
       "       'AOULOUZ', 'ABDELMOUMENE', 'MOKHTAR SOUSSI', 'IMI EL KHENG',\n",
       "       'AHL SOUSS', 'YOUSSEF BEN TACHFINE', 'MANSOUR EDDAHBI',\n",
       "       'SULTAN MOULAY ALI CHERIF', 'HASSAN ADDAKHIL', 'SAQUIAT ALHAMRA',\n",
       "       'TWUIZGUI RAMZ', 'ENSEMBLE DES BARRAGES', 'TAMALOUT'], dtype=object)"
      ]
     },
     "execution_count": 46,
     "metadata": {},
     "output_type": "execute_result"
    }
   ],
   "source": [
    "all_data[\"barrages\"].unique()"
   ]
  },
  {
   "cell_type": "code",
   "execution_count": null,
   "id": "1b6cc87f",
   "metadata": {},
   "outputs": [],
   "source": [
    "#choisir vos barrages (le plus proches de votre ville natale )"
   ]
  },
  {
   "cell_type": "code",
   "execution_count": 1,
   "id": "0431dfdd",
   "metadata": {},
   "outputs": [],
   "source": [
    "selected_barages = [\"LALLA TAKERKOUST\"]"
   ]
  },
  {
   "cell_type": "code",
   "execution_count": 2,
   "id": "633ddd01",
   "metadata": {
    "scrolled": true
   },
   "outputs": [
    {
     "ename": "NameError",
     "evalue": "name 'all_data' is not defined",
     "output_type": "error",
     "traceback": [
      "\u001b[1;31m---------------------------------------------------------------------------\u001b[0m",
      "\u001b[1;31mNameError\u001b[0m                                 Traceback (most recent call last)",
      "\u001b[1;32m~\\AppData\\Local\\Temp/ipykernel_904/456276291.py\u001b[0m in \u001b[0;36m<module>\u001b[1;34m\u001b[0m\n\u001b[1;32m----> 1\u001b[1;33m \u001b[0mselected_data\u001b[0m \u001b[1;33m=\u001b[0m \u001b[0mall_data\u001b[0m\u001b[1;33m[\u001b[0m\u001b[0mall_data\u001b[0m\u001b[1;33m[\u001b[0m\u001b[1;34m\"barrages\"\u001b[0m\u001b[1;33m]\u001b[0m\u001b[1;33m.\u001b[0m\u001b[0misin\u001b[0m\u001b[1;33m(\u001b[0m\u001b[0mselected_barages\u001b[0m\u001b[1;33m)\u001b[0m\u001b[1;33m]\u001b[0m\u001b[1;33m\u001b[0m\u001b[1;33m\u001b[0m\u001b[0m\n\u001b[0m\u001b[0;32m      2\u001b[0m \u001b[0mselected_data\u001b[0m\u001b[1;33m.\u001b[0m\u001b[0mreset_index\u001b[0m\u001b[1;33m(\u001b[0m\u001b[0mdrop\u001b[0m\u001b[1;33m=\u001b[0m\u001b[1;32mTrue\u001b[0m\u001b[1;33m,\u001b[0m \u001b[0minplace\u001b[0m\u001b[1;33m=\u001b[0m\u001b[1;32mTrue\u001b[0m\u001b[1;33m)\u001b[0m\u001b[1;33m\u001b[0m\u001b[1;33m\u001b[0m\u001b[0m\n\u001b[0;32m      3\u001b[0m \u001b[0mselected_data\u001b[0m\u001b[1;33m[\u001b[0m\u001b[1;34m\"ville\"\u001b[0m\u001b[1;33m]\u001b[0m \u001b[1;33m=\u001b[0m \u001b[1;34m\"\"\u001b[0m\u001b[1;33m\u001b[0m\u001b[1;33m\u001b[0m\u001b[0m\n\u001b[0;32m      4\u001b[0m \u001b[0mselected_data\u001b[0m\u001b[1;33m[\u001b[0m\u001b[1;34m\"region\"\u001b[0m\u001b[1;33m]\u001b[0m \u001b[1;33m=\u001b[0m \u001b[1;34m\"\"\u001b[0m\u001b[1;33m\u001b[0m\u001b[1;33m\u001b[0m\u001b[0m\n\u001b[0;32m      5\u001b[0m \u001b[0mselected_data\u001b[0m\u001b[1;33m.\u001b[0m\u001b[0mloc\u001b[0m\u001b[1;33m[\u001b[0m\u001b[0mselected_data\u001b[0m\u001b[1;33m[\u001b[0m\u001b[1;34m'barrages'\u001b[0m\u001b[1;33m]\u001b[0m \u001b[1;33m==\u001b[0m \u001b[1;34m'LALLA TAKERKOUST'\u001b[0m\u001b[1;33m,\u001b[0m \u001b[1;34m'ville'\u001b[0m\u001b[1;33m]\u001b[0m \u001b[1;33m=\u001b[0m \u001b[1;34m\"Marrakech\"\u001b[0m\u001b[1;33m\u001b[0m\u001b[1;33m\u001b[0m\u001b[0m\n",
      "\u001b[1;31mNameError\u001b[0m: name 'all_data' is not defined"
     ]
    }
   ],
   "source": [
    "selected_data = all_data[all_data[\"barrages\"].isin(selected_barages)]\n",
    "selected_data.reset_index(drop=True, inplace=True)\n",
    "selected_data[\"ville\"] = \"\"\n",
    "selected_data[\"region\"] = \"\"\n",
    "selected_data.loc[selected_data['barrages'] == 'LALLA TAKERKOUST', 'ville'] = \"Marrakech\"\n",
    "selected_data.loc[selected_data['barrages'] == 'LALLA TAKERKOUST', 'region'] = \"Marrakech-Safi \""
   ]
  },
  {
   "cell_type": "code",
   "execution_count": 3,
   "id": "6433c241",
   "metadata": {
    "scrolled": true
   },
   "outputs": [
    {
     "ename": "NameError",
     "evalue": "name 'selected_data' is not defined",
     "output_type": "error",
     "traceback": [
      "\u001b[1;31m---------------------------------------------------------------------------\u001b[0m",
      "\u001b[1;31mNameError\u001b[0m                                 Traceback (most recent call last)",
      "\u001b[1;32m~\\AppData\\Local\\Temp/ipykernel_904/527099774.py\u001b[0m in \u001b[0;36m<module>\u001b[1;34m\u001b[0m\n\u001b[1;32m----> 1\u001b[1;33m \u001b[0mselected_data\u001b[0m\u001b[1;33m\u001b[0m\u001b[1;33m\u001b[0m\u001b[0m\n\u001b[0m",
      "\u001b[1;31mNameError\u001b[0m: name 'selected_data' is not defined"
     ]
    }
   ],
   "source": [
    "selected_data"
   ]
  },
  {
   "cell_type": "code",
   "execution_count": null,
   "id": "b1a5eef8",
   "metadata": {},
   "outputs": [],
   "source": [
    "#souvegarde de votre data"
   ]
  },
  {
   "cell_type": "code",
   "execution_count": 55,
   "id": "2a404f88",
   "metadata": {},
   "outputs": [],
   "source": [
    "selected_data.to_csv(\"./barrage_data.csv\",index=False,encoding=\"UTF-8\")"
   ]
  },
  {
   "cell_type": "code",
   "execution_count": null,
   "id": "0c0ae828",
   "metadata": {},
   "outputs": [],
   "source": []
  }
 ],
 "metadata": {
  "kernelspec": {
   "display_name": "Python 3.8.8 64-bit",
   "language": "python",
   "name": "python3"
  },
  "language_info": {
   "codemirror_mode": {
    "name": "ipython",
    "version": 3
   },
   "file_extension": ".py",
   "mimetype": "text/x-python",
   "name": "python",
   "nbconvert_exporter": "python",
   "pygments_lexer": "ipython3",
   "version": "3.8.8"
  },
  "vscode": {
   "interpreter": {
    "hash": "892b1dbae191cb403baa4bf29e539705d2bb168fb9a756bde180b5b738f682b9"
   }
  }
 },
 "nbformat": 4,
 "nbformat_minor": 5
}
