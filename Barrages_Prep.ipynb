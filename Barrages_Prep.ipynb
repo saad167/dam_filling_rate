{
 "cells": [
  {
   "cell_type": "code",
   "execution_count": 4,
   "id": "7145f527",
   "metadata": {},
   "outputs": [],
   "source": [
    "#importer les bibliothèques"
   ]
  },
  {
   "cell_type": "code",
   "execution_count": 37,
   "id": "4dd4f38f",
   "metadata": {},
   "outputs": [
    {
     "data": {
      "text/plain": [
       "UserWarning('ignore')"
      ]
     },
     "execution_count": 37,
     "metadata": {},
     "output_type": "execute_result"
    }
   ],
   "source": [
    "import warnings\n",
    "UserWarning(\"ignore\")"
   ]
  },
  {
   "cell_type": "code",
   "execution_count": 38,
   "id": "927fc037",
   "metadata": {},
   "outputs": [],
   "source": [
    "import json\n",
    "import pandas as pd\n",
    "import datetime\n",
    "import tabula.io\n",
    "from tabula.io import read_pdf\n",
    "import wget\n",
    "\n",
    "from tabulate import tabulate\n",
    "import os\n",
    "import copy"
   ]
  },
  {
   "cell_type": "code",
   "execution_count": 6,
   "id": "a20e12c7",
   "metadata": {},
   "outputs": [],
   "source": [
    "#télécharger les fichiers JSON des villes & regions"
   ]
  },
  {
   "cell_type": "code",
   "execution_count": 7,
   "id": "6db41e1e",
   "metadata": {},
   "outputs": [
    {
     "data": {
      "text/plain": [
       "'ville (1).json'"
      ]
     },
     "execution_count": 7,
     "metadata": {},
     "output_type": "execute_result"
    }
   ],
   "source": [
    "wget.download(\"https://raw.githubusercontent.com/alaouy/sql-moroccan-cities/master/json/ville.json\")"
   ]
  },
  {
   "cell_type": "code",
   "execution_count": 8,
   "id": "88555421",
   "metadata": {},
   "outputs": [
    {
     "data": {
      "text/plain": [
       "'region (1).json'"
      ]
     },
     "execution_count": 8,
     "metadata": {},
     "output_type": "execute_result"
    }
   ],
   "source": [
    "wget.download(\"https://raw.githubusercontent.com/alaouy/sql-moroccan-cities/master/json/region.json\")"
   ]
  },
  {
   "cell_type": "code",
   "execution_count": 9,
   "id": "11dcb5d3",
   "metadata": {},
   "outputs": [],
   "source": [
    "#construite un pandas data frame pour les villes et les régions"
   ]
  },
  {
   "cell_type": "code",
   "execution_count": 10,
   "id": "2d312c0f",
   "metadata": {},
   "outputs": [],
   "source": [
    "cities = pd.read_json(\"ville.json\",orient=\"records\")\n",
    "cities.rename(columns={'id': 'id_ville', 'region': 'id_region'}, inplace=True)"
   ]
  },
  {
   "cell_type": "code",
   "execution_count": 11,
   "id": "8e68060c",
   "metadata": {},
   "outputs": [],
   "source": [
    "regions = pd.read_json(\"region.json\",orient=\"records\")\n",
    "regions.rename(columns={'id': 'id_region'}, inplace=True)"
   ]
  },
  {
   "cell_type": "code",
   "execution_count": 12,
   "id": "6b380d4f",
   "metadata": {
    "scrolled": true
   },
   "outputs": [
    {
     "data": {
      "text/html": [
       "<div>\n",
       "<style scoped>\n",
       "    .dataframe tbody tr th:only-of-type {\n",
       "        vertical-align: middle;\n",
       "    }\n",
       "\n",
       "    .dataframe tbody tr th {\n",
       "        vertical-align: top;\n",
       "    }\n",
       "\n",
       "    .dataframe thead th {\n",
       "        text-align: right;\n",
       "    }\n",
       "</style>\n",
       "<table border=\"1\" class=\"dataframe\">\n",
       "  <thead>\n",
       "    <tr style=\"text-align: right;\">\n",
       "      <th></th>\n",
       "      <th>id_ville</th>\n",
       "      <th>ville</th>\n",
       "      <th>id_region</th>\n",
       "      <th>region</th>\n",
       "    </tr>\n",
       "  </thead>\n",
       "  <tbody>\n",
       "    <tr>\n",
       "      <th>0</th>\n",
       "      <td>0</td>\n",
       "      <td>Afourar</td>\n",
       "      <td>5</td>\n",
       "      <td>Béni Mellal-Khénifra</td>\n",
       "    </tr>\n",
       "    <tr>\n",
       "      <th>1</th>\n",
       "      <td>3</td>\n",
       "      <td>Aghbala</td>\n",
       "      <td>5</td>\n",
       "      <td>Béni Mellal-Khénifra</td>\n",
       "    </tr>\n",
       "  </tbody>\n",
       "</table>\n",
       "</div>"
      ],
      "text/plain": [
       "   id_ville    ville  id_region                region\n",
       "0         0  Afourar          5  Béni Mellal-Khénifra\n",
       "1         3  Aghbala          5  Béni Mellal-Khénifra"
      ]
     },
     "execution_count": 12,
     "metadata": {},
     "output_type": "execute_result"
    }
   ],
   "source": [
    "cities_regions = pd.merge(cities,regions)\n",
    "cities_regions.head(2)"
   ]
  },
  {
   "cell_type": "code",
   "execution_count": 13,
   "id": "ad03f849",
   "metadata": {},
   "outputs": [],
   "source": [
    "#sur Linux WSL / google collab test du téléchargement pour un seul fichier"
   ]
  },
  {
   "cell_type": "code",
   "execution_count": 14,
   "id": "ff9b3ac9",
   "metadata": {
    "scrolled": true
   },
   "outputs": [
    {
     "data": {
      "text/plain": [
       "'./in/1_3_2022.pdf'"
      ]
     },
     "execution_count": 14,
     "metadata": {},
     "output_type": "execute_result"
    }
   ],
   "source": [
    "wget.download(\"http://81.192.10.228/wp-content/uploads/2022/03/1_3_2022.pdf\",out=\"./in\")"
   ]
  },
  {
   "cell_type": "code",
   "execution_count": 15,
   "id": "98cf5bfa",
   "metadata": {},
   "outputs": [],
   "source": [
    "#parametrage du téléchargement pour plusieurs fichiers sur une marge de date"
   ]
  },
  {
   "cell_type": "code",
   "execution_count": 16,
   "id": "00352ec7",
   "metadata": {},
   "outputs": [],
   "source": [
    "start = datetime.datetime(2021,3,13)\n",
    "end = datetime.datetime(2021,3,20)"
   ]
  },
  {
   "cell_type": "code",
   "execution_count": 17,
   "id": "28b78ad9",
   "metadata": {},
   "outputs": [],
   "source": [
    "#téléchargement de tout les fichiers vers un dossier in/"
   ]
  },
  {
   "cell_type": "code",
   "execution_count": 18,
   "id": "b4ebb39e",
   "metadata": {
    "scrolled": true
   },
   "outputs": [
    {
     "name": "stdout",
     "output_type": "stream",
     "text": [
      "2021 3 13\n",
      "http://81.192.10.228/wp-content/uploads/2021/03/13_3_2021.pdf\n",
      "-----------\n",
      "2021 3 14\n",
      "http://81.192.10.228/wp-content/uploads/2021/03/14_3_2021.pdf\n",
      "-----------\n",
      "2021 3 15\n",
      "http://81.192.10.228/wp-content/uploads/2021/03/15_3_2021.pdf\n",
      "-----------\n",
      "2021 3 16\n",
      "http://81.192.10.228/wp-content/uploads/2021/03/16_3_2021.pdf\n",
      "-----------\n",
      "2021 3 17\n",
      "http://81.192.10.228/wp-content/uploads/2021/03/17_3_2021.pdf\n",
      "-----------\n",
      "2021 3 18\n",
      "http://81.192.10.228/wp-content/uploads/2021/03/18_3_2021.pdf\n",
      "-----------\n",
      "2021 3 19\n",
      "http://81.192.10.228/wp-content/uploads/2021/03/19_3_2021.pdf\n",
      "-----------\n"
     ]
    }
   ],
   "source": [
    "d = start\n",
    "c=1\n",
    "while(d<end):\n",
    "    try:\n",
    "        print(d.year,d.month,d.day)\n",
    "        month = str(d.month)\n",
    "        if d.month<10:\n",
    "            month = \"0\"+month\n",
    "        wget.download(f\"http://81.192.10.228/wp-content/uploads/{d.year}/{month}/{d.day}_{d.month}_{d.year}.pdf\", out =\"./in\")\n",
    "        print(f\"http://81.192.10.228/wp-content/uploads/{d.year}/{month}/{d.day}_{d.month}_{d.year}.pdf\")\n",
    "    except Exception as e:\n",
    "        print(\"\\n-> ERROR!!!!\",e)\n",
    "        \n",
    "    d = d+datetime.timedelta(days=1)\n",
    "  \n",
    "    print(\"-----------\")"
   ]
  },
  {
   "cell_type": "code",
   "execution_count": 19,
   "id": "3fa55ee3",
   "metadata": {},
   "outputs": [],
   "source": [
    "#lister tout les fichiers téléchargés"
   ]
  },
  {
   "cell_type": "code",
   "execution_count": 20,
   "id": "50dfb994",
   "metadata": {},
   "outputs": [
    {
     "name": "stdout",
     "output_type": "stream",
     "text": [
      "Searching...\n",
      "ALL DONE! 8 sources/tables found\n"
     ]
    }
   ],
   "source": [
    "import os\n",
    "import re\n",
    "filepath=\"./in/\" #root path for checking\n",
    "full_path = filepath\n",
    "filepattern=r\"\\b(\\w*.pdf)\"\n",
    "filepattern = full_path.replace(\"/\",\"\\/\")+filepattern\n",
    "file_pattern = re.compile(filepattern)\n",
    "\n",
    "print(\"Searching...\")\n",
    "counter=0\n",
    "tables=[]\n",
    "try:\n",
    "  #######################################\n",
    "    for dirpath, subdirs, files in os.walk(full_path):\n",
    "        for x in files:\n",
    "            if x.endswith(\".pdf\"):        \n",
    "                if re.match(file_pattern, os.path.join(dirpath, x)):\n",
    "                    data = os.path.join(dirpath, x).split(\"/\")[-1].split(\".\")[0]\n",
    "                    tables.append(data.upper())\n",
    "                    counter+=1\n",
    "#                     print(\"\")\n",
    "#                     context['task_instance'].xcom_push('file_name', files)\n",
    "#                     return True\n",
    "    print(f\"ALL DONE! {counter} sources/tables found\")\n",
    "#     return False\n",
    "except:\n",
    "    print(\"OOOOPS ERORRS ARE HERE!\")\n",
    "#     return False\n",
    "# print(\"\\n\\n\",tables)"
   ]
  },
  {
   "cell_type": "code",
   "execution_count": 21,
   "id": "c6da3b5f",
   "metadata": {},
   "outputs": [],
   "source": [
    "# Conversion de tout les fichiers téléchargés vers des csv non nettoyés"
   ]
  },
  {
   "cell_type": "code",
   "execution_count": 22,
   "id": "f874c416",
   "metadata": {
    "scrolled": true
   },
   "outputs": [
    {
     "name": "stdout",
     "output_type": "stream",
     "text": [
      "13_3_2021.pdf\n",
      "-----------\n",
      "14_3_2021.pdf\n",
      "-----------\n",
      "15_3_2021.pdf\n",
      "-----------\n",
      "16_3_2021.pdf\n",
      "-----------\n",
      "17_3_2021.pdf\n",
      "-----------\n",
      "18_3_2021.pdf\n",
      "-----------\n",
      "19_3_2021.pdf\n",
      "-----------\n",
      "1_3_2022.pdf\n",
      "-----------\n"
     ]
    }
   ],
   "source": [
    "\n",
    "for file in tables:\n",
    "    try:\n",
    "        print(file+\".pdf\")        \n",
    "        tabula.io.convert_into(f\"./in/{file}.pdf\",f\"./out/{file}.csv\",output_format=\"csv\",pages=\"all\")\n",
    "\n",
    "    except Exception as e:\n",
    "        print(\"\\n-> ERROR!!!!\",e) \n",
    "    print(\"-----------\")\n"
   ]
  },
  {
   "cell_type": "code",
   "execution_count": 23,
   "id": "115a62b1",
   "metadata": {},
   "outputs": [],
   "source": [
    "#dev code abandonné"
   ]
  },
  {
   "cell_type": "code",
   "execution_count": 24,
   "id": "c351dc47",
   "metadata": {},
   "outputs": [],
   "source": [
    "\n",
    "#tabula.convert_into(\"1_3_2022.pdf\",\"output.csv\",output_format=\"csv\",pages=\"all\")\n",
    "\n",
    "# import camelot\n",
    " \n",
    "# # extract all the tables in the PDF file\n",
    "# abc = camelot.read_pdf(\"1_3_2022.pdf\")   #address of file location\n",
    " \n",
    "# # print the first table as Pandas DataFrame\n",
    "# print(abc[0].df)"
   ]
  },
  {
   "cell_type": "code",
   "execution_count": null,
   "id": "0feef050",
   "metadata": {},
   "outputs": [],
   "source": []
  },
  {
   "cell_type": "code",
   "execution_count": 25,
   "id": "86e26e6c",
   "metadata": {
    "scrolled": true
   },
   "outputs": [],
   "source": [
    "# from csv import reader\n",
    "# # open file in read mode\n",
    "# with open('./out/2_11_2021.csv', 'r') as read_obj:\n",
    "#     # pass the file object to reader() to get the reader object\n",
    "#     csv_reader = reader(read_obj)\n",
    "#     # Iterate over each row in the csv using reader object\n",
    "#     all_rows = []\n",
    "#     for row in csv_reader:\n",
    "#         # row variable is a list that represents a row in csv\n",
    "#         all_rows.append(row)\n",
    "# data = all_rows[4:]\n",
    "# columns = [\"BARRAGES\",\"CAPACITE NORMALE (Mm3)\",\"RESERVE (Mm3)\",\"TAUX DE REMPLISSAGE ( % )\",\"RESERVE (Mm3) Last Year\",\"TAUX DE REMPLISSAGE ( % ) Last Year\"]\n",
    "# df = pd.DataFrame(data=data,columns=columns)\n",
    "# df[\"date\"] =  datetime.datetime.strptime(\"2_11_2021\", '%d_%m_%Y')\n",
    "# df"
   ]
  },
  {
   "cell_type": "code",
   "execution_count": 26,
   "id": "d3df0654",
   "metadata": {},
   "outputs": [],
   "source": [
    "#lecture de tout les csv en sorti avec la lib csv et la concaténation de toute la data dans un seul csv"
   ]
  },
  {
   "cell_type": "code",
   "execution_count": 27,
   "id": "dc7c46ea",
   "metadata": {},
   "outputs": [],
   "source": [
    "dfs = []\n",
    "for file in tables:\n",
    "    from csv import reader\n",
    "    # open file in read mode\n",
    "    with open(f'./out/{file}.csv', 'r') as read_obj:\n",
    "        # pass the file object to reader() to get the reader object\n",
    "        csv_reader = reader(read_obj)\n",
    "        # Iterate over each row in the csv using reader object\n",
    "        all_rows = []\n",
    "        for row in csv_reader:\n",
    "            # row variable is a list that represents a row in csv\n",
    "            all_rows.append(row)\n",
    "    data = all_rows[4:]\n",
    "    columns = [\"barrages\",\"capacite_normal_mm3\",\"reserve_mm3\",\"taux_de_remplissage_percent\",\"reserve_mm3_last_year\",\"taux_de_remplissage_percent_last_year\"]\n",
    "    df = pd.DataFrame(data=data,columns=columns)\n",
    "    df[\"date\"] =  datetime.datetime.strptime(file, '%d_%m_%Y').strftime(\"%Y-%m-%d\")\n",
    "    dfs.append(copy.copy(df))"
   ]
  },
  {
   "cell_type": "code",
   "execution_count": 28,
   "id": "61c3de01",
   "metadata": {},
   "outputs": [
    {
     "name": "stdout",
     "output_type": "stream",
     "text": [
      "500\n"
     ]
    }
   ],
   "source": [
    "count=0\n",
    "for i in range(len(dfs)):\n",
    "    count+=len(dfs[i])\n",
    "print(count)"
   ]
  },
  {
   "cell_type": "code",
   "execution_count": 29,
   "id": "432f9ceb",
   "metadata": {},
   "outputs": [
    {
     "data": {
      "text/html": [
       "<div>\n",
       "<style scoped>\n",
       "    .dataframe tbody tr th:only-of-type {\n",
       "        vertical-align: middle;\n",
       "    }\n",
       "\n",
       "    .dataframe tbody tr th {\n",
       "        vertical-align: top;\n",
       "    }\n",
       "\n",
       "    .dataframe thead th {\n",
       "        text-align: right;\n",
       "    }\n",
       "</style>\n",
       "<table border=\"1\" class=\"dataframe\">\n",
       "  <thead>\n",
       "    <tr style=\"text-align: right;\">\n",
       "      <th></th>\n",
       "      <th>barrages</th>\n",
       "      <th>capacite_normal_mm3</th>\n",
       "      <th>reserve_mm3</th>\n",
       "      <th>taux_de_remplissage_percent</th>\n",
       "      <th>reserve_mm3_last_year</th>\n",
       "      <th>taux_de_remplissage_percent_last_year</th>\n",
       "      <th>date</th>\n",
       "    </tr>\n",
       "  </thead>\n",
       "  <tbody>\n",
       "    <tr>\n",
       "      <th>0</th>\n",
       "      <td>OUED EL MAKHAZINE</td>\n",
       "      <td>672,9</td>\n",
       "      <td>670,0</td>\n",
       "      <td>99,6</td>\n",
       "      <td>652,6</td>\n",
       "      <td>97,0</td>\n",
       "      <td>2021-03-13</td>\n",
       "    </tr>\n",
       "    <tr>\n",
       "      <th>1</th>\n",
       "      <td>TANGER - MEDITERRANEE</td>\n",
       "      <td>22,0</td>\n",
       "      <td>19,1</td>\n",
       "      <td>86,8</td>\n",
       "      <td>13,2</td>\n",
       "      <td>60,2</td>\n",
       "      <td>2021-03-13</td>\n",
       "    </tr>\n",
       "    <tr>\n",
       "      <th>2</th>\n",
       "      <td>IBN BATTOUTA</td>\n",
       "      <td>29,1</td>\n",
       "      <td>29,1</td>\n",
       "      <td>100,0</td>\n",
       "      <td>5,4</td>\n",
       "      <td>18,7</td>\n",
       "      <td>2021-03-13</td>\n",
       "    </tr>\n",
       "    <tr>\n",
       "      <th>3</th>\n",
       "      <td>NEUF AVRIL 1947</td>\n",
       "      <td>300,0</td>\n",
       "      <td>76,5</td>\n",
       "      <td>25,5</td>\n",
       "      <td>75,2</td>\n",
       "      <td>25,1</td>\n",
       "      <td>2021-03-13</td>\n",
       "    </tr>\n",
       "    <tr>\n",
       "      <th>4</th>\n",
       "      <td>NAKHLA</td>\n",
       "      <td>4,21</td>\n",
       "      <td>4,11</td>\n",
       "      <td>97,6</td>\n",
       "      <td>4,2</td>\n",
       "      <td>99,1</td>\n",
       "      <td>2021-03-13</td>\n",
       "    </tr>\n",
       "    <tr>\n",
       "      <th>...</th>\n",
       "      <td>...</td>\n",
       "      <td>...</td>\n",
       "      <td>...</td>\n",
       "      <td>...</td>\n",
       "      <td>...</td>\n",
       "      <td>...</td>\n",
       "      <td>...</td>\n",
       "    </tr>\n",
       "    <tr>\n",
       "      <th>495</th>\n",
       "      <td>SULTAN MOULAY ALI CHERIF</td>\n",
       "      <td>280,2</td>\n",
       "      <td>93,2</td>\n",
       "      <td>33,3</td>\n",
       "      <td>160,7</td>\n",
       "      <td>57,3</td>\n",
       "      <td>2022-03-01</td>\n",
       "    </tr>\n",
       "    <tr>\n",
       "      <th>496</th>\n",
       "      <td>HASSAN ADDAKHIL</td>\n",
       "      <td>312,8</td>\n",
       "      <td>52,4</td>\n",
       "      <td>16,8</td>\n",
       "      <td>53,1</td>\n",
       "      <td>17,0</td>\n",
       "      <td>2022-03-01</td>\n",
       "    </tr>\n",
       "    <tr>\n",
       "      <th>497</th>\n",
       "      <td>SAQUIAT ALHAMRA</td>\n",
       "      <td>-</td>\n",
       "      <td>-</td>\n",
       "      <td>-</td>\n",
       "      <td>-</td>\n",
       "      <td>-</td>\n",
       "      <td>2022-03-01</td>\n",
       "    </tr>\n",
       "    <tr>\n",
       "      <th>498</th>\n",
       "      <td>TWUIZGUI RAMZ</td>\n",
       "      <td>15,0</td>\n",
       "      <td>0,0</td>\n",
       "      <td>0,0</td>\n",
       "      <td>0,0</td>\n",
       "      <td>0,0</td>\n",
       "      <td>2022-03-01</td>\n",
       "    </tr>\n",
       "    <tr>\n",
       "      <th>499</th>\n",
       "      <td>ENSEMBLE DES BARRAGES</td>\n",
       "      <td>16122,6</td>\n",
       "      <td>5283,4</td>\n",
       "      <td>32,8</td>\n",
       "      <td>7938,8</td>\n",
       "      <td>49,4</td>\n",
       "      <td>2022-03-01</td>\n",
       "    </tr>\n",
       "  </tbody>\n",
       "</table>\n",
       "<p>500 rows × 7 columns</p>\n",
       "</div>"
      ],
      "text/plain": [
       "                     barrages capacite_normal_mm3 reserve_mm3  \\\n",
       "0           OUED EL MAKHAZINE               672,9       670,0   \n",
       "1       TANGER - MEDITERRANEE                22,0        19,1   \n",
       "2                IBN BATTOUTA                29,1        29,1   \n",
       "3             NEUF AVRIL 1947               300,0        76,5   \n",
       "4                      NAKHLA                4,21        4,11   \n",
       "..                        ...                 ...         ...   \n",
       "495  SULTAN MOULAY ALI CHERIF               280,2        93,2   \n",
       "496           HASSAN ADDAKHIL               312,8        52,4   \n",
       "497           SAQUIAT ALHAMRA                   -           -   \n",
       "498             TWUIZGUI RAMZ                15,0         0,0   \n",
       "499     ENSEMBLE DES BARRAGES             16122,6      5283,4   \n",
       "\n",
       "    taux_de_remplissage_percent reserve_mm3_last_year  \\\n",
       "0                          99,6                 652,6   \n",
       "1                          86,8                  13,2   \n",
       "2                         100,0                   5,4   \n",
       "3                          25,5                  75,2   \n",
       "4                          97,6                   4,2   \n",
       "..                          ...                   ...   \n",
       "495                        33,3                 160,7   \n",
       "496                        16,8                  53,1   \n",
       "497                           -                     -   \n",
       "498                         0,0                   0,0   \n",
       "499                        32,8                7938,8   \n",
       "\n",
       "    taux_de_remplissage_percent_last_year        date  \n",
       "0                                    97,0  2021-03-13  \n",
       "1                                    60,2  2021-03-13  \n",
       "2                                    18,7  2021-03-13  \n",
       "3                                    25,1  2021-03-13  \n",
       "4                                    99,1  2021-03-13  \n",
       "..                                    ...         ...  \n",
       "495                                  57,3  2022-03-01  \n",
       "496                                  17,0  2022-03-01  \n",
       "497                                     -  2022-03-01  \n",
       "498                                   0,0  2022-03-01  \n",
       "499                                  49,4  2022-03-01  \n",
       "\n",
       "[500 rows x 7 columns]"
      ]
     },
     "execution_count": 29,
     "metadata": {},
     "output_type": "execute_result"
    }
   ],
   "source": [
    "all_data = pd.concat(dfs)\n",
    "all_data = all_data.reset_index()\n",
    "all_data = all_data.drop([\"index\"],axis=1)\n",
    "all_data"
   ]
  },
  {
   "cell_type": "code",
   "execution_count": 30,
   "id": "507f23d9",
   "metadata": {
    "scrolled": true
   },
   "outputs": [
    {
     "data": {
      "text/plain": [
       "array(['OUED EL MAKHAZINE', 'TANGER - MEDITERRANEE', 'IBN BATTOUTA',\n",
       "       'NEUF AVRIL 1947', 'NAKHLA', 'MY HASSAN BEN AL MAHDI', 'SMIR',\n",
       "       'M.B.A. AL KHATTABI', 'CHEFCHAOUEN', 'ACHARIF AL IDRISSI',\n",
       "       'HASSAN II', 'Dar Khrofa', 'JOUMOUA', 'INJIL',\n",
       "       'BARRAGE SUR OUED ZA', 'MOHAMED V', 'MECHRAA HOMMADI', 'BAB LOUTA',\n",
       "       'IDRISS 1 er', 'ALLAL EL FASSI', 'SIDI ECHAHED', 'SAHLA',\n",
       "       'BOUHOUDA', 'ASFALOU', 'ALWAHDA', 'GARDE SEBOU', 'EL KENSERA',\n",
       "       'MICHLIFEN', 'AL HIMER', 'S.M.  BEN ABDEELLAH', 'TAMESNA',\n",
       "       'OUED MELLAH', 'BIN EL OUIDANE', 'HASSAN 1er', 'SIDI DRISS',\n",
       "       'MOULAY YOUSSEF', 'TIMINOUTINE', 'AHMED AL HANSSALI',\n",
       "       'AIT MESSAOUD', 'AL MASSIRA', 'IMFOUT', 'DAOURAT',\n",
       "       'SIDI SAID MAACHOU', \"S.M'HAMED BEN SLIMAN JAZOULI\",\n",
       "       'YAAKOUB MANSOUR', 'ABOU EL ABBAS ESSABTI', 'LALLA TAKERKOUST',\n",
       "       'BARRAGE MOULAY ABDERRAHMANE', 'DKHILA', 'MOULAY ABDALLAH',\n",
       "       'AOULOUZ', 'ABDELMOUMENE', 'MOKHTAR SOUSSI', 'IMI EL KHENG',\n",
       "       'AHL SOUSS', 'YOUSSEF BEN TACHFINE', 'MANSOUR EDDAHBI',\n",
       "       'SULTAN MOULAY ALI CHERIF', 'HASSAN ADDAKHIL', 'SAQUIAT ALHAMRA',\n",
       "       'TWUIZGUI RAMZ', 'ENSEMBLE DES BARRAGES', 'TAMALOUT'], dtype=object)"
      ]
     },
     "execution_count": 30,
     "metadata": {},
     "output_type": "execute_result"
    }
   ],
   "source": [
    "all_data[\"barrages\"].unique()"
   ]
  },
  {
   "cell_type": "code",
   "execution_count": 31,
   "id": "1b6cc87f",
   "metadata": {},
   "outputs": [],
   "source": [
    "#choisir vos barrages (le plus proches de votre ville natale )"
   ]
  },
  {
   "cell_type": "code",
   "execution_count": 32,
   "id": "0431dfdd",
   "metadata": {},
   "outputs": [],
   "source": [
    "selected_barages = [\"LALLA TAKERKOUST\"]"
   ]
  },
  {
   "cell_type": "code",
   "execution_count": 33,
   "id": "633ddd01",
   "metadata": {
    "scrolled": true
   },
   "outputs": [
    {
     "name": "stderr",
     "output_type": "stream",
     "text": [
      "C:\\Users\\hp\\AppData\\Local\\Temp/ipykernel_904/456276291.py:3: SettingWithCopyWarning: \n",
      "A value is trying to be set on a copy of a slice from a DataFrame.\n",
      "Try using .loc[row_indexer,col_indexer] = value instead\n",
      "\n",
      "See the caveats in the documentation: https://pandas.pydata.org/pandas-docs/stable/user_guide/indexing.html#returning-a-view-versus-a-copy\n",
      "  selected_data[\"ville\"] = \"\"\n",
      "C:\\Users\\hp\\AppData\\Local\\Temp/ipykernel_904/456276291.py:4: SettingWithCopyWarning: \n",
      "A value is trying to be set on a copy of a slice from a DataFrame.\n",
      "Try using .loc[row_indexer,col_indexer] = value instead\n",
      "\n",
      "See the caveats in the documentation: https://pandas.pydata.org/pandas-docs/stable/user_guide/indexing.html#returning-a-view-versus-a-copy\n",
      "  selected_data[\"region\"] = \"\"\n"
     ]
    }
   ],
   "source": [
    "selected_data = all_data[all_data[\"barrages\"].isin(selected_barages)]\n",
    "selected_data.reset_index(drop=True, inplace=True)\n",
    "selected_data[\"ville\"] = \"\"\n",
    "selected_data[\"region\"] = \"\"\n",
    "selected_data.loc[selected_data['barrages'] == 'LALLA TAKERKOUST', 'ville'] = \"Marrakech\"\n",
    "selected_data.loc[selected_data['barrages'] == 'LALLA TAKERKOUST', 'region'] = \"Marrakech-Safi \""
   ]
  },
  {
   "cell_type": "code",
   "execution_count": 34,
   "id": "6433c241",
   "metadata": {
    "scrolled": true
   },
   "outputs": [
    {
     "data": {
      "text/html": [
       "<div>\n",
       "<style scoped>\n",
       "    .dataframe tbody tr th:only-of-type {\n",
       "        vertical-align: middle;\n",
       "    }\n",
       "\n",
       "    .dataframe tbody tr th {\n",
       "        vertical-align: top;\n",
       "    }\n",
       "\n",
       "    .dataframe thead th {\n",
       "        text-align: right;\n",
       "    }\n",
       "</style>\n",
       "<table border=\"1\" class=\"dataframe\">\n",
       "  <thead>\n",
       "    <tr style=\"text-align: right;\">\n",
       "      <th></th>\n",
       "      <th>barrages</th>\n",
       "      <th>capacite_normal_mm3</th>\n",
       "      <th>reserve_mm3</th>\n",
       "      <th>taux_de_remplissage_percent</th>\n",
       "      <th>reserve_mm3_last_year</th>\n",
       "      <th>taux_de_remplissage_percent_last_year</th>\n",
       "      <th>date</th>\n",
       "      <th>ville</th>\n",
       "      <th>region</th>\n",
       "    </tr>\n",
       "  </thead>\n",
       "  <tbody>\n",
       "    <tr>\n",
       "      <th>0</th>\n",
       "      <td>LALLA TAKERKOUST</td>\n",
       "      <td>53,3</td>\n",
       "      <td>16,6</td>\n",
       "      <td>31,1</td>\n",
       "      <td>3,6</td>\n",
       "      <td>6,7</td>\n",
       "      <td>2021-03-13</td>\n",
       "      <td>Marrakech</td>\n",
       "      <td>Marrakech-Safi</td>\n",
       "    </tr>\n",
       "    <tr>\n",
       "      <th>1</th>\n",
       "      <td>LALLA TAKERKOUST</td>\n",
       "      <td>53,3</td>\n",
       "      <td>16,6</td>\n",
       "      <td>31,1</td>\n",
       "      <td>3,6</td>\n",
       "      <td>6,7</td>\n",
       "      <td>2021-03-14</td>\n",
       "      <td>Marrakech</td>\n",
       "      <td>Marrakech-Safi</td>\n",
       "    </tr>\n",
       "    <tr>\n",
       "      <th>2</th>\n",
       "      <td>LALLA TAKERKOUST</td>\n",
       "      <td>53,3</td>\n",
       "      <td>16,6</td>\n",
       "      <td>31,1</td>\n",
       "      <td>3,4</td>\n",
       "      <td>6,5</td>\n",
       "      <td>2021-03-15</td>\n",
       "      <td>Marrakech</td>\n",
       "      <td>Marrakech-Safi</td>\n",
       "    </tr>\n",
       "    <tr>\n",
       "      <th>3</th>\n",
       "      <td>LALLA TAKERKOUST</td>\n",
       "      <td>53,3</td>\n",
       "      <td>16,6</td>\n",
       "      <td>31,1</td>\n",
       "      <td>3,4</td>\n",
       "      <td>6,5</td>\n",
       "      <td>2021-03-16</td>\n",
       "      <td>Marrakech</td>\n",
       "      <td>Marrakech-Safi</td>\n",
       "    </tr>\n",
       "    <tr>\n",
       "      <th>4</th>\n",
       "      <td>LALLA TAKERKOUST</td>\n",
       "      <td>53,3</td>\n",
       "      <td>16,6</td>\n",
       "      <td>31,1</td>\n",
       "      <td>3,4</td>\n",
       "      <td>6,5</td>\n",
       "      <td>2021-03-17</td>\n",
       "      <td>Marrakech</td>\n",
       "      <td>Marrakech-Safi</td>\n",
       "    </tr>\n",
       "    <tr>\n",
       "      <th>5</th>\n",
       "      <td>LALLA TAKERKOUST</td>\n",
       "      <td>53,3</td>\n",
       "      <td>16,6</td>\n",
       "      <td>31,1</td>\n",
       "      <td>3,4</td>\n",
       "      <td>6,5</td>\n",
       "      <td>2021-03-18</td>\n",
       "      <td>Marrakech</td>\n",
       "      <td>Marrakech-Safi</td>\n",
       "    </tr>\n",
       "    <tr>\n",
       "      <th>6</th>\n",
       "      <td>LALLA TAKERKOUST</td>\n",
       "      <td>53,3</td>\n",
       "      <td>16,6</td>\n",
       "      <td>31,1</td>\n",
       "      <td>3,4</td>\n",
       "      <td>6,5</td>\n",
       "      <td>2021-03-19</td>\n",
       "      <td>Marrakech</td>\n",
       "      <td>Marrakech-Safi</td>\n",
       "    </tr>\n",
       "    <tr>\n",
       "      <th>7</th>\n",
       "      <td>LALLA TAKERKOUST</td>\n",
       "      <td>53,3</td>\n",
       "      <td>3,2</td>\n",
       "      <td>6,1</td>\n",
       "      <td>7,2</td>\n",
       "      <td>13,5</td>\n",
       "      <td>2022-03-01</td>\n",
       "      <td>Marrakech</td>\n",
       "      <td>Marrakech-Safi</td>\n",
       "    </tr>\n",
       "  </tbody>\n",
       "</table>\n",
       "</div>"
      ],
      "text/plain": [
       "           barrages capacite_normal_mm3 reserve_mm3  \\\n",
       "0  LALLA TAKERKOUST                53,3        16,6   \n",
       "1  LALLA TAKERKOUST                53,3        16,6   \n",
       "2  LALLA TAKERKOUST                53,3        16,6   \n",
       "3  LALLA TAKERKOUST                53,3        16,6   \n",
       "4  LALLA TAKERKOUST                53,3        16,6   \n",
       "5  LALLA TAKERKOUST                53,3        16,6   \n",
       "6  LALLA TAKERKOUST                53,3        16,6   \n",
       "7  LALLA TAKERKOUST                53,3         3,2   \n",
       "\n",
       "  taux_de_remplissage_percent reserve_mm3_last_year  \\\n",
       "0                        31,1                   3,6   \n",
       "1                        31,1                   3,6   \n",
       "2                        31,1                   3,4   \n",
       "3                        31,1                   3,4   \n",
       "4                        31,1                   3,4   \n",
       "5                        31,1                   3,4   \n",
       "6                        31,1                   3,4   \n",
       "7                         6,1                   7,2   \n",
       "\n",
       "  taux_de_remplissage_percent_last_year        date      ville  \\\n",
       "0                                   6,7  2021-03-13  Marrakech   \n",
       "1                                   6,7  2021-03-14  Marrakech   \n",
       "2                                   6,5  2021-03-15  Marrakech   \n",
       "3                                   6,5  2021-03-16  Marrakech   \n",
       "4                                   6,5  2021-03-17  Marrakech   \n",
       "5                                   6,5  2021-03-18  Marrakech   \n",
       "6                                   6,5  2021-03-19  Marrakech   \n",
       "7                                  13,5  2022-03-01  Marrakech   \n",
       "\n",
       "            region  \n",
       "0  Marrakech-Safi   \n",
       "1  Marrakech-Safi   \n",
       "2  Marrakech-Safi   \n",
       "3  Marrakech-Safi   \n",
       "4  Marrakech-Safi   \n",
       "5  Marrakech-Safi   \n",
       "6  Marrakech-Safi   \n",
       "7  Marrakech-Safi   "
      ]
     },
     "execution_count": 34,
     "metadata": {},
     "output_type": "execute_result"
    }
   ],
   "source": [
    "selected_data"
   ]
  },
  {
   "cell_type": "code",
   "execution_count": 35,
   "id": "b1a5eef8",
   "metadata": {},
   "outputs": [],
   "source": [
    "#souvegarde de votre data"
   ]
  },
  {
   "cell_type": "code",
   "execution_count": 36,
   "id": "2a404f88",
   "metadata": {},
   "outputs": [],
   "source": [
    "selected_data.to_csv(\"./barrage_data.csv\",index=False,encoding=\"UTF-8\")"
   ]
  },
  {
   "cell_type": "code",
   "execution_count": null,
   "id": "0c0ae828",
   "metadata": {},
   "outputs": [],
   "source": []
  }
 ],
 "metadata": {
  "kernelspec": {
   "display_name": "Python 3.8.8 64-bit",
   "language": "python",
   "name": "python3"
  },
  "language_info": {
   "codemirror_mode": {
    "name": "ipython",
    "version": 3
   },
   "file_extension": ".py",
   "mimetype": "text/x-python",
   "name": "python",
   "nbconvert_exporter": "python",
   "pygments_lexer": "ipython3",
   "version": "3.8.8"
  },
  "vscode": {
   "interpreter": {
    "hash": "892b1dbae191cb403baa4bf29e539705d2bb168fb9a756bde180b5b738f682b9"
   }
  }
 },
 "nbformat": 4,
 "nbformat_minor": 5
}
