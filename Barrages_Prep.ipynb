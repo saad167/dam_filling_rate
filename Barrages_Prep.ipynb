{
 "cells": [
  {
   "cell_type": "code",
   "execution_count": null,
   "id": "7145f527",
   "metadata": {},
   "outputs": [],
   "source": [
    "#importer les bibliothèques"
   ]
  },
  {
   "cell_type": "code",
   "execution_count": null,
   "id": "927fc037",
   "metadata": {},
   "outputs": [],
   "source": [
    "import json\n",
    "import pandas as pd\n",
    "import datetime\n",
    "\n",
    "from tabula import read_pdf\n",
    "import tabula\n",
    "from tabulate import tabulate\n",
    "import os\n",
    "import copy"
   ]
  },
  {
   "cell_type": "code",
   "execution_count": null,
   "id": "a20e12c7",
   "metadata": {},
   "outputs": [],
   "source": [
    "#télécharger les fichiers JSON des villes & regions"
   ]
  },
  {
   "cell_type": "code",
   "execution_count": null,
   "id": "6db41e1e",
   "metadata": {},
   "outputs": [],
   "source": [
    "!wget https://raw.githubusercontent.com/alaouy/sql-moroccan-cities/master/json/ville.json"
   ]
  },
  {
   "cell_type": "code",
   "execution_count": null,
   "id": "88555421",
   "metadata": {},
   "outputs": [],
   "source": [
    "!wget https://raw.githubusercontent.com/alaouy/sql-moroccan-cities/master/json/region.json"
   ]
  },
  {
   "cell_type": "code",
   "execution_count": null,
   "id": "11dcb5d3",
   "metadata": {},
   "outputs": [],
   "source": [
    "#construite un pandas data frame pour les villes et les régions"
   ]
  },
  {
   "cell_type": "code",
   "execution_count": null,
   "id": "2d312c0f",
   "metadata": {},
   "outputs": [],
   "source": [
    "cities = pd.read_json(\"ville.json\",orient=\"records\")\n",
    "cities.rename(columns={'id': 'id_ville', 'region': 'id_region'}, inplace=True)"
   ]
  },
  {
   "cell_type": "code",
   "execution_count": null,
   "id": "8e68060c",
   "metadata": {},
   "outputs": [],
   "source": [
    "regions = pd.read_json(\"region.json\",orient=\"records\")\n",
    "regions.rename(columns={'id': 'id_region'}, inplace=True)"
   ]
  },
  {
   "cell_type": "code",
   "execution_count": null,
   "id": "6b380d4f",
   "metadata": {
    "scrolled": true
   },
   "outputs": [],
   "source": [
    "cities_regions = pd.merge(cities,regions)\n",
    "cities_regions.head(2)"
   ]
  },
  {
   "cell_type": "code",
   "execution_count": null,
   "id": "ad03f849",
   "metadata": {},
   "outputs": [],
   "source": [
    "#sur Linux WSL / google collab test du téléchargement pour un seul fichier"
   ]
  },
  {
   "cell_type": "code",
   "execution_count": null,
   "id": "ff9b3ac9",
   "metadata": {
    "scrolled": true
   },
   "outputs": [],
   "source": [
    "!wget http://81.192.10.228/wp-content/uploads/2022/03/1_3_2022.pdf"
   ]
  },
  {
   "cell_type": "code",
   "execution_count": null,
   "id": "98cf5bfa",
   "metadata": {},
   "outputs": [],
   "source": [
    "#parametrage du téléchargement pour plusieurs fichiers sur une marge de date"
   ]
  },
  {
   "cell_type": "code",
   "execution_count": null,
   "id": "00352ec7",
   "metadata": {},
   "outputs": [],
   "source": [
    "start = datetime.datetime(2021,3,1)\n",
    "end = datetime.datetime(2022,3,1)"
   ]
  },
  {
   "cell_type": "code",
   "execution_count": null,
   "id": "28b78ad9",
   "metadata": {},
   "outputs": [],
   "source": [
    "#téléchargement de tout les fichiers vers un dossier in/"
   ]
  },
  {
   "cell_type": "code",
   "execution_count": null,
   "id": "b4ebb39e",
   "metadata": {
    "scrolled": true
   },
   "outputs": [],
   "source": [
    "d = start\n",
    "c=1\n",
    "while(d<end):\n",
    "    try:\n",
    "        print(d.year,d.month,d.day)\n",
    "        month = str(d.month)\n",
    "        if d.month<10:\n",
    "            month = \"0\"+month\n",
    "        os.system(f\"wget http://81.192.10.228/wp-content/uploads/{d.year}/{month}/{d.day}_{d.month}_{d.year}.pdf --directory-prefix=in/\")\n",
    "#         print(f\"wget http://81.192.10.228/wp-content/uploads/{d.year}/{month}/{d.day}_{d.month}_{d.year}.pdf\")\n",
    "        d = d+datetime.timedelta(days=7)\n",
    "    except Exception as e:\n",
    "        print(\"\\n-> ERROR!!!!\",e)\n",
    "    print(\"-----------\")"
   ]
  },
  {
   "cell_type": "code",
   "execution_count": null,
   "id": "3fa55ee3",
   "metadata": {},
   "outputs": [],
   "source": [
    "#lister tout les fichiers téléchargés"
   ]
  },
  {
   "cell_type": "code",
   "execution_count": null,
   "id": "50dfb994",
   "metadata": {},
   "outputs": [],
   "source": [
    "import os\n",
    "import re\n",
    "filepath=\"./in/\" #root path for checking\n",
    "full_path = filepath\n",
    "filepattern=r\"\\b(\\w*.pdf)\"\n",
    "filepattern = full_path.replace(\"/\",\"\\/\")+filepattern\n",
    "file_pattern = re.compile(filepattern)\n",
    "\n",
    "print(\"Searching...\")\n",
    "counter=0\n",
    "tables=[]\n",
    "try:\n",
    "  #######################################\n",
    "    for dirpath, subdirs, files in os.walk(full_path):\n",
    "        for x in files:\n",
    "            if x.endswith(\".pdf\"):        \n",
    "                if re.match(file_pattern, os.path.join(dirpath, x)):\n",
    "                    data = os.path.join(dirpath, x).split(\"/\")[-1].split(\".\")[0]\n",
    "                    tables.append(data.upper())\n",
    "                    counter+=1\n",
    "#                     print(\"\")\n",
    "#                     context['task_instance'].xcom_push('file_name', files)\n",
    "#                     return True\n",
    "    print(f\"ALL DONE! {counter} sources/tables found\")\n",
    "#     return False\n",
    "except:\n",
    "    print(\"OOOOPS ERORRS ARE HERE!\")\n",
    "#     return False\n",
    "# print(\"\\n\\n\",tables)"
   ]
  },
  {
   "cell_type": "code",
   "execution_count": null,
   "id": "c6da3b5f",
   "metadata": {},
   "outputs": [],
   "source": [
    "# Conversion de tout les fichiers téléchargés vers des csv non nettoyés"
   ]
  },
  {
   "cell_type": "code",
   "execution_count": null,
   "id": "f874c416",
   "metadata": {
    "scrolled": true
   },
   "outputs": [],
   "source": [
    "\n",
    "for file in tables:\n",
    "    try:\n",
    "        print(file+\".pdf\")        \n",
    "        tabula.convert_into(f\"./in/{file}.pdf\",f\"./out/{file}.csv\",output_format=\"csv\",pages=\"all\")\n",
    "\n",
    "    except Exception as e:\n",
    "        print(\"\\n-> ERROR!!!!\",e)\n",
    "    print(\"-----------\")\n"
   ]
  },
  {
   "cell_type": "code",
   "execution_count": null,
   "id": "115a62b1",
   "metadata": {},
   "outputs": [],
   "source": [
    "#dev code abandonné"
   ]
  },
  {
   "cell_type": "code",
   "execution_count": null,
   "id": "c351dc47",
   "metadata": {},
   "outputs": [],
   "source": [
    "\n",
    "#tabula.convert_into(\"1_3_2022.pdf\",\"output.csv\",output_format=\"csv\",pages=\"all\")\n",
    "\n",
    "# import camelot\n",
    " \n",
    "# # extract all the tables in the PDF file\n",
    "# abc = camelot.read_pdf(\"1_3_2022.pdf\")   #address of file location\n",
    " \n",
    "# # print the first table as Pandas DataFrame\n",
    "# print(abc[0].df)"
   ]
  },
  {
   "cell_type": "code",
   "execution_count": null,
   "id": "0feef050",
   "metadata": {},
   "outputs": [],
   "source": []
  },
  {
   "cell_type": "code",
   "execution_count": null,
   "id": "86e26e6c",
   "metadata": {
    "scrolled": true
   },
   "outputs": [],
   "source": [
    "# from csv import reader\n",
    "# # open file in read mode\n",
    "# with open('./out/2_11_2021.csv', 'r') as read_obj:\n",
    "#     # pass the file object to reader() to get the reader object\n",
    "#     csv_reader = reader(read_obj)\n",
    "#     # Iterate over each row in the csv using reader object\n",
    "#     all_rows = []\n",
    "#     for row in csv_reader:\n",
    "#         # row variable is a list that represents a row in csv\n",
    "#         all_rows.append(row)\n",
    "# data = all_rows[4:]\n",
    "# columns = [\"BARRAGES\",\"CAPACITE NORMALE (Mm3)\",\"RESERVE (Mm3)\",\"TAUX DE REMPLISSAGE ( % )\",\"RESERVE (Mm3) Last Year\",\"TAUX DE REMPLISSAGE ( % ) Last Year\"]\n",
    "# df = pd.DataFrame(data=data,columns=columns)\n",
    "# df[\"date\"] =  datetime.datetime.strptime(\"2_11_2021\", '%d_%m_%Y')\n",
    "# df"
   ]
  },
  {
   "cell_type": "code",
   "execution_count": null,
   "id": "d3df0654",
   "metadata": {},
   "outputs": [],
   "source": [
    "#lecture de tout les csv en sorti avec la lib csv et la concaténation de toute la data dans un seul csv"
   ]
  },
  {
   "cell_type": "code",
   "execution_count": null,
   "id": "dc7c46ea",
   "metadata": {},
   "outputs": [],
   "source": [
    "dfs = []\n",
    "for file in tables:\n",
    "    from csv import reader\n",
    "    # open file in read mode\n",
    "    with open(f'./out/{file}.csv', 'r') as read_obj:\n",
    "        # pass the file object to reader() to get the reader object\n",
    "        csv_reader = reader(read_obj)\n",
    "        # Iterate over each row in the csv using reader object\n",
    "        all_rows = []\n",
    "        for row in csv_reader:\n",
    "            # row variable is a list that represents a row in csv\n",
    "            all_rows.append(row)\n",
    "    data = all_rows[4:]\n",
    "    columns = [\"barrages\",\"capacite_normal_mm3\",\"reserve_mm3\",\"taux_de_remplissage_percent\",\"reserve_mm3_last_year\",\"taux_de_remplissage_percent_last_year\"]\n",
    "    df = pd.DataFrame(data=data,columns=columns)\n",
    "    df[\"date\"] =  datetime.datetime.strptime(file, '%d_%m_%Y').strftime(\"%Y-%m-%d\")\n",
    "    dfs.append(copy.copy(df))"
   ]
  },
  {
   "cell_type": "code",
   "execution_count": null,
   "id": "61c3de01",
   "metadata": {},
   "outputs": [],
   "source": [
    "count=0\n",
    "for i in range(len(dfs)):\n",
    "    count+=len(dfs[i])\n",
    "print(count)"
   ]
  },
  {
   "cell_type": "code",
   "execution_count": null,
   "id": "432f9ceb",
   "metadata": {},
   "outputs": [],
   "source": [
    "all_data = pd.concat(dfs)\n",
    "all_data = all_data.reset_index()\n",
    "all_data = all_data.drop([\"index\"],axis=1)\n",
    "all_data"
   ]
  },
  {
   "cell_type": "code",
   "execution_count": null,
   "id": "507f23d9",
   "metadata": {
    "scrolled": true
   },
   "outputs": [],
   "source": [
    "all_data[\"barrages\"].unique()"
   ]
  },
  {
   "cell_type": "code",
   "execution_count": null,
   "id": "1b6cc87f",
   "metadata": {},
   "outputs": [],
   "source": [
    "#choisir vos barrages (le plus proches de votre ville natale )"
   ]
  },
  {
   "cell_type": "code",
   "execution_count": null,
   "id": "0431dfdd",
   "metadata": {},
   "outputs": [],
   "source": [
    "selected_barages = [\"MANSOUR EDDAHBI\",\"TANGER - MEDITERRANEE\"]"
   ]
  },
  {
   "cell_type": "code",
   "execution_count": null,
   "id": "633ddd01",
   "metadata": {
    "scrolled": true
   },
   "outputs": [],
   "source": [
    "selected_data = all_data[all_data[\"barrages\"].isin(selected_barages)]\n",
    "selected_data.reset_index(drop=True, inplace=True)\n",
    "selected_data[\"ville\"] = \"\"\n",
    "selected_data[\"region\"] = \"\"\n",
    "selected_data.loc[selected_data['barrages'] == 'TANGER - MEDITERRANEE', 'ville'] = \"TANGER\"\n",
    "selected_data.loc[selected_data['barrages'] == 'TANGER - MEDITERRANEE', 'region'] = \"Tanger-Tetouan-Al Hoceima\"\n",
    "\n",
    "selected_data.loc[selected_data['barrages'] == 'MANSOUR EDDAHBI', 'ville'] = \"Ouarzazate\"\n",
    "selected_data.loc[selected_data['barrages'] == 'MANSOUR EDDAHBI', 'region'] = \"Draa-Tafilalet\""
   ]
  },
  {
   "cell_type": "code",
   "execution_count": null,
   "id": "6433c241",
   "metadata": {
    "scrolled": true
   },
   "outputs": [],
   "source": [
    "selected_data"
   ]
  },
  {
   "cell_type": "code",
   "execution_count": null,
   "id": "b1a5eef8",
   "metadata": {},
   "outputs": [],
   "source": [
    "#souvegarde de votre data"
   ]
  },
  {
   "cell_type": "code",
   "execution_count": null,
   "id": "2a404f88",
   "metadata": {},
   "outputs": [],
   "source": [
    "selected_data.to_csv(\"./barrage_data.csv\",index=False,encoding=\"UTF-8\")"
   ]
  },
  {
   "cell_type": "code",
   "execution_count": null,
   "id": "0c0ae828",
   "metadata": {},
   "outputs": [],
   "source": []
  }
 ],
 "metadata": {
  "kernelspec": {
   "display_name": "Python 3",
   "language": "python",
   "name": "python3"
  },
  "language_info": {
   "codemirror_mode": {
    "name": "ipython",
    "version": 3
   },
   "file_extension": ".py",
   "mimetype": "text/x-python",
   "name": "python",
   "nbconvert_exporter": "python",
   "pygments_lexer": "ipython3",
   "version": "3.6.9"
  }
 },
 "nbformat": 4,
 "nbformat_minor": 5
}
